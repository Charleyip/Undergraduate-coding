{
 "cells": [
  {
   "cell_type": "markdown",
   "metadata": {
    "id": "4gE81zsruQ2I"
   },
   "source": [
    "# Lab3 Tutorial - Web scraping and Data Preprocessing"
   ]
  },
  {
   "cell_type": "markdown",
   "metadata": {
    "id": "Xn6DXsHCLg6D"
   },
   "source": [
    "# Web scraping\n"
   ]
  },
  {
   "cell_type": "code",
   "execution_count": 3,
   "metadata": {
    "colab": {
     "base_uri": "https://localhost:8080/"
    },
    "id": "EMlqg7sKnJFP",
    "outputId": "93f130e2-3c69-48ec-ad24-75315f70ceb9"
   },
   "outputs": [
    {
     "name": "stdout",
     "output_type": "stream",
     "text": [
      "\u001b[33mDEPRECATION: Configuring installation scheme with distutils config files is deprecated and will no longer work in the near future. If you are using a Homebrew or Linuxbrew Python, please see discussion at https://github.com/Homebrew/homebrew-core/issues/76621\u001b[0m\n",
      "Collecting pyppeteer\n",
      "  Using cached pyppeteer-1.0.2-py3-none-any.whl (83 kB)\n",
      "Requirement already satisfied: nest_asyncio in /opt/homebrew/lib/python3.9/site-packages (1.5.1)\n",
      "Collecting importlib-metadata>=1.4\n",
      "  Using cached importlib_metadata-4.10.1-py3-none-any.whl (17 kB)\n",
      "Collecting urllib3<2.0.0,>=1.25.8\n",
      "  Downloading urllib3-1.26.8-py2.py3-none-any.whl (138 kB)\n",
      "     |████████████████████████████████| 138 kB 412 kB/s            \n",
      "\u001b[?25hCollecting pyee<9.0.0,>=8.1.0\n",
      "  Using cached pyee-8.2.2-py2.py3-none-any.whl (12 kB)\n",
      "Collecting certifi>=2021\n",
      "  Using cached certifi-2021.10.8-py2.py3-none-any.whl (149 kB)\n",
      "Collecting tqdm<5.0.0,>=4.42.1\n",
      "  Using cached tqdm-4.62.3-py2.py3-none-any.whl (76 kB)\n",
      "Collecting appdirs<2.0.0,>=1.4.3\n",
      "  Using cached appdirs-1.4.4-py2.py3-none-any.whl (9.6 kB)\n",
      "Collecting websockets<11.0,>=10.0\n",
      "  Downloading websockets-10.1-cp39-cp39-macosx_11_0_arm64.whl (96 kB)\n",
      "     |████████████████████████████████| 96 kB 632 kB/s            \n",
      "\u001b[?25hCollecting zipp>=0.5\n",
      "  Using cached zipp-3.7.0-py3-none-any.whl (5.3 kB)\n",
      "Installing collected packages: zipp, websockets, urllib3, tqdm, pyee, importlib-metadata, certifi, appdirs, pyppeteer\n",
      "\u001b[33m  DEPRECATION: Configuring installation scheme with distutils config files is deprecated and will no longer work in the near future. If you are using a Homebrew or Linuxbrew Python, please see discussion at https://github.com/Homebrew/homebrew-core/issues/76621\u001b[0m\n",
      "\u001b[33m  DEPRECATION: Configuring installation scheme with distutils config files is deprecated and will no longer work in the near future. If you are using a Homebrew or Linuxbrew Python, please see discussion at https://github.com/Homebrew/homebrew-core/issues/76621\u001b[0m\n",
      "\u001b[33m  DEPRECATION: Configuring installation scheme with distutils config files is deprecated and will no longer work in the near future. If you are using a Homebrew or Linuxbrew Python, please see discussion at https://github.com/Homebrew/homebrew-core/issues/76621\u001b[0m\n",
      "\u001b[33m  DEPRECATION: Configuring installation scheme with distutils config files is deprecated and will no longer work in the near future. If you are using a Homebrew or Linuxbrew Python, please see discussion at https://github.com/Homebrew/homebrew-core/issues/76621\u001b[0m\n",
      "\u001b[33m  DEPRECATION: Configuring installation scheme with distutils config files is deprecated and will no longer work in the near future. If you are using a Homebrew or Linuxbrew Python, please see discussion at https://github.com/Homebrew/homebrew-core/issues/76621\u001b[0m\n",
      "\u001b[33m  DEPRECATION: Configuring installation scheme with distutils config files is deprecated and will no longer work in the near future. If you are using a Homebrew or Linuxbrew Python, please see discussion at https://github.com/Homebrew/homebrew-core/issues/76621\u001b[0m\n",
      "\u001b[33m  DEPRECATION: Configuring installation scheme with distutils config files is deprecated and will no longer work in the near future. If you are using a Homebrew or Linuxbrew Python, please see discussion at https://github.com/Homebrew/homebrew-core/issues/76621\u001b[0m\n",
      "\u001b[33m  DEPRECATION: Configuring installation scheme with distutils config files is deprecated and will no longer work in the near future. If you are using a Homebrew or Linuxbrew Python, please see discussion at https://github.com/Homebrew/homebrew-core/issues/76621\u001b[0m\n",
      "\u001b[33mDEPRECATION: Configuring installation scheme with distutils config files is deprecated and will no longer work in the near future. If you are using a Homebrew or Linuxbrew Python, please see discussion at https://github.com/Homebrew/homebrew-core/issues/76621\u001b[0m\n",
      "Successfully installed appdirs-1.4.4 certifi-2021.10.8 importlib-metadata-4.10.1 pyee-8.2.2 pyppeteer-1.0.2 tqdm-4.62.3 urllib3-1.26.8 websockets-10.1 zipp-3.7.0\n",
      "\u001b[33mWARNING: You are using pip version 21.3.1; however, version 22.0.3 is available.\n",
      "You should consider upgrading via the '/opt/homebrew/opt/python@3.9/bin/python3.9 -m pip install --upgrade pip' command.\u001b[0m\n"
     ]
    }
   ],
   "source": [
    "!pip install pyppeteer nest_asyncio"
   ]
  },
  {
   "cell_type": "code",
   "execution_count": 1,
   "metadata": {
    "id": "L2rwb20quwVl"
   },
   "outputs": [],
   "source": [
    "import asyncio\n",
    "import nest_asyncio\n",
    "from pyppeteer import launch\n",
    "\n",
    "nest_asyncio.apply()"
   ]
  },
  {
   "cell_type": "markdown",
   "metadata": {
    "id": "szcvAoCYdHSG"
   },
   "source": [
    "## Visiting an URL"
   ]
  },
  {
   "cell_type": "code",
   "execution_count": 5,
   "metadata": {
    "id": "tVcDHewidJ-g"
   },
   "outputs": [],
   "source": [
    "async def main():\n",
    "  browser = await launch({'headless': False})\n",
    "  page = await browser.newPage() # open a new browser window\n",
    "  await page.goto('https://www.hktvmall.com/hktv/en/main/search_a?keyword=Milk', { 'waitUntil':'networkidle0' }) # goto the url\n",
    "  await page.screenshot({'path': 'example.png'}) # save screenshot as example.png\n",
    "  await browser.close() # close browser window"
   ]
  },
  {
   "cell_type": "code",
   "execution_count": 6,
   "metadata": {
    "colab": {
     "base_uri": "https://localhost:8080/"
    },
    "id": "Y9HLAuIpL5P7",
    "outputId": "69a2978d-17c6-4ba5-c68e-5892e872544a"
   },
   "outputs": [
    {
     "name": "stderr",
     "output_type": "stream",
     "text": [
      "[INFO] Starting Chromium download.\n",
      "100%|█████████████████████████████████████████████████████████████████████████████████████████████████████████████████████████████████████████████████████████████████████████████████████████████████████████████████████████████████████| 86.8M/86.8M [03:18<00:00, 437kb/s]\n",
      "[INFO] Beginning extraction\n",
      "[INFO] Chromium extracted to: /Users/kenny/Library/Application Support/pyppeteer/local-chromium/588429\n"
     ]
    }
   ],
   "source": [
    "asyncio.get_event_loop().run_until_complete(main())"
   ]
  },
  {
   "cell_type": "markdown",
   "metadata": {
    "id": "oBGSrCuCMEWk"
   },
   "source": [
    "Showing `example.png` with `matplotlib`."
   ]
  },
  {
   "cell_type": "code",
   "execution_count": 8,
   "metadata": {
    "colab": {
     "base_uri": "https://localhost:8080/",
     "height": 304
    },
    "id": "vspF3g9jeqRO",
    "outputId": "d0d68d05-3aa3-485f-a8ff-6d50568aeaab"
   },
   "outputs": [
    {
     "name": "stderr",
     "output_type": "stream",
     "text": [
      "Fontconfig warning: ignoring UTF-8: not a valid region tag\n"
     ]
    },
    {
     "data": {
      "text/plain": [
       "<matplotlib.image.AxesImage at 0x116cdd7f0>"
      ]
     },
     "execution_count": 8,
     "metadata": {},
     "output_type": "execute_result"
    },
    {
     "data": {
      "image/png": "[encoded data removed]",
      "text/plain": [
       "<Figure size 432x288 with 1 Axes>"
      ]
     },
     "metadata": {
      "needs_background": "light"
     },
     "output_type": "display_data"
    }
   ],
   "source": [
    "import matplotlib.pyplot as plt\n",
    "import matplotlib.image as mpimg\n",
    "img = mpimg.imread('example.png')\n",
    "plt.imshow(img)"
   ]
  },
  {
   "cell_type": "markdown",
   "metadata": {
    "id": "JDEgyZzmMLDc"
   },
   "source": [
    "## Selecting single element content in a page"
   ]
  },
  {
   "cell_type": "markdown",
   "metadata": {
    "id": "aYia3UXILQcj"
   },
   "source": [
    "Finding HTML element with CSS Selector and Javascript by `page.Jeval` (shortland of `page.querySelectorEvaluate`).\n",
    "\n",
    "![](https://url2img-web.herokuapp.com/aHR0cHM6Ly9weXBwZXRlZXIuZ2l0aHViLmlvL3B5cHBldGVlci9yZWZlcmVuY2UuaHRtbCNweXBwZXRlZXIuZWxlbWVudF9oYW5kbGUuRWxlbWVudEhhbmRsZS5xdWVyeVNlbGVjdG9yRXZhbA==)\n",
    "\n",
    "The second arguemnt of `page.Jeval` is actually a Javascript expression. pyppeteer would pass in the matched node in to the Javascript function we defined there. Thus, we could its text with `.textContent`. Please refer to HTML Element and Node for reference.\n",
    "\n",
    "![](https://url2img-web.herokuapp.com/aHR0cHM6Ly9kZXZlbG9wZXIubW96aWxsYS5vcmcvZW4tVVMvZG9jcy9XZWIvQVBJL05vZGUvdGV4dENvbnRlbnQ=)\n",
    "\n",
    "References:\n",
    "- https://pyppeteer.github.io/pyppeteer/reference.html#pyppeteer.element_handle.ElementHandle.querySelectorEval\n",
    "- https://developer.mozilla.org/en-US/docs/Web/API/Node/textContent\n",
    "- https://developer.mozilla.org/en-US/docs/Web/API/HTMLElement/innerText"
   ]
  },
  {
   "cell_type": "code",
   "execution_count": 4,
   "metadata": {
    "id": "wsi_PHB3u0lU"
   },
   "outputs": [],
   "source": [
    "async def searchTotal(keyword):\n",
    "  browser = await launch({'headless': False})\n",
    "  page = await browser.newPage()\n",
    "  await page.goto(f'https://www.hktvmall.com/hktv/en/search_a?keyword={keyword}', { 'timeout':0, 'waitUntil':'networkidle0' })\n",
    "  total = await page.Jeval('.paginationMenu-content span', 'node => node.textContent')\n",
    "  print(total.strip())\n",
    "  await browser.close()"
   ]
  },
  {
   "cell_type": "code",
   "execution_count": 5,
   "metadata": {
    "colab": {
     "base_uri": "https://localhost:8080/"
    },
    "id": "4ha8Dh37JHGE",
    "outputId": "9d063b4d-8b9b-4ae0-82d1-ecdbb2b0df0f"
   },
   "outputs": [
    {
     "name": "stdout",
     "output_type": "stream",
     "text": [
      "/  17 Pages\n"
     ]
    }
   ],
   "source": [
    "asyncio.get_event_loop().run_until_complete(searchTotal('Milk'))"
   ]
  },
  {
   "cell_type": "markdown",
   "metadata": {
    "id": "kqfjyq3of8FM"
   },
   "source": [
    "Wrapping up long code statement via function with simple name."
   ]
  },
  {
   "cell_type": "code",
   "execution_count": 6,
   "metadata": {
    "id": "-Vp1T65pfuPt"
   },
   "outputs": [],
   "source": [
    "def run(func):\n",
    "  return asyncio.get_event_loop().run_until_complete(func)"
   ]
  },
  {
   "cell_type": "code",
   "execution_count": 19,
   "metadata": {
    "colab": {
     "base_uri": "https://localhost:8080/"
    },
    "id": "Qw2B2jPfgFKI",
    "outputId": "f0abab61-7aab-4f33-d838-fe8e1fe08d81"
   },
   "outputs": [
    {
     "name": "stdout",
     "output_type": "stream",
     "text": [
      "/  17 Pages\n"
     ]
    }
   ],
   "source": [
    "run(searchTotal('Milk'))"
   ]
  },
  {
   "cell_type": "markdown",
   "metadata": {
    "id": "LgR5HVSpfBIQ"
   },
   "source": [
    "Getting return value from `async` function with `asyncio.gather`. `asyncio.gather` allows multiple functions as input, thus it will return a list of return values of each function. "
   ]
  },
  {
   "cell_type": "code",
   "execution_count": 7,
   "metadata": {
    "id": "Sf63tA1Vgl2F"
   },
   "outputs": [],
   "source": [
    "def runAndReturn(func):\n",
    "  return asyncio.get_event_loop().run_until_complete(asyncio.gather(func))[0]"
   ]
  },
  {
   "cell_type": "code",
   "execution_count": 8,
   "metadata": {
    "id": "xwIOJqEeKgxK"
   },
   "outputs": [],
   "source": [
    "async def searchTotalPages(keyword):\n",
    "  browser = await launch({'headless': False})\n",
    "  page = await browser.newPage()  # open a new tab in browser\n",
    "  await page.goto(f'https://www.hktvmall.com/hktv/en/search_a?keyword={keyword}', { 'timeout':0, 'waitUntil':'networkidle0' })\n",
    "  totalText = await page.Jeval('.paginationMenu-content span', 'node => node.textContent')\n",
    "  await browser.close()\n",
    "  return totalText.lstrip('/').rstrip('Pages').strip()"
   ]
  },
  {
   "cell_type": "code",
   "execution_count": 9,
   "metadata": {
    "colab": {
     "base_uri": "https://localhost:8080/"
    },
    "id": "wwC9B2n4K4hc",
    "outputId": "0f442f8a-dd54-4083-c07e-c6f7801bebe0"
   },
   "outputs": [
    {
     "data": {
      "text/plain": [
       "17"
      ]
     },
     "execution_count": 9,
     "metadata": {},
     "output_type": "execute_result"
    }
   ],
   "source": [
    "totalPages = int(runAndReturn(searchTotalPages('Milk')))\n",
    "totalPages"
   ]
  },
  {
   "cell_type": "markdown",
   "metadata": {
    "id": "zKoASwKsRuEM"
   },
   "source": [
    "## Selecting multiple elements"
   ]
  },
  {
   "cell_type": "markdown",
   "metadata": {
    "id": "PwcV7OQDhgjS"
   },
   "source": [
    "Looping throught multiple elements with `page.JJ`.\n",
    "\n",
    "![](https://url2img-web.herokuapp.com/aHR0cHM6Ly9weXBwZXRlZXIuZ2l0aHViLmlvL3B5cHBldGVlci9yZWZlcmVuY2UuaHRtbCNweXBwZXRlZXIucGFnZS5QYWdlLnF1ZXJ5U2VsZWN0b3JBbGxFdmFs)\n",
    "\n",
    "Reference:\n",
    "- https://pyppeteer.github.io/pyppeteer/reference.html#pyppeteer.page.Page.querySelectorAllEval"
   ]
  },
  {
   "cell_type": "code",
   "execution_count": 10,
   "metadata": {
    "id": "cvkpqZhcXqnT"
   },
   "outputs": [],
   "source": [
    "import pandas as pd\n",
    "\n",
    "async def searchProductsInPage(keyword, pageNum = 0):\n",
    "  browser = await launch({'headless': False})\n",
    "  page = await browser.newPage() # open a new tab in browser\n",
    "  await page.goto(f'https://www.hktvmall.com/hktv/en/search_a?keyword={keyword}&page={pageNum}', {\n",
    "    'timeout':0,\n",
    "    'waitUntil':'networkidle0'\n",
    "  })\n",
    "  data = [{\n",
    "    'name': ''.join(await e.JJeval('.brand-product-name','nodes => Array.from(nodes).map(node => node.textContent)')),\n",
    "    'packing': ''.join(await e.JJeval('.packing-spec','nodes => Array.from(nodes).map(node => node.textContent)')),\n",
    "    'sales': ''.join(await e.JJeval('.salesNumber-container','nodes => Array.from(nodes).map(node => node.textContent)')),\n",
    "    'reviews': ''.join(await e.JJeval('.review-number','nodes => Array.from(nodes).map(node => node.textContent)')),\n",
    "    'price': ''.join(await e.JJeval('.price','nodes => Array.from(nodes).map(node => node.textContent)')),\n",
    "    'store_name': ''.join(await e.JJeval('.store-name-label','nodes => Array.from(nodes).map(node => node.textContent)')),\n",
    "  } for e in await page.JJ('.product-brief-wrapper')]\n",
    "  await browser.close()\n",
    "  return pd.DataFrame(data)"
   ]
  },
  {
   "cell_type": "code",
   "execution_count": 11,
   "metadata": {
    "colab": {
     "base_uri": "https://localhost:8080/",
     "height": 424
    },
    "id": "XN-ulvS2K-Yy",
    "outputId": "c8079059-7498-4edb-aaa2-a8b8a71ca90c"
   },
   "outputs": [
    {
     "data": {
      "text/html": [
       "<div>\n",
       "<style scoped>\n",
       "    .dataframe tbody tr th:only-of-type {\n",
       "        vertical-align: middle;\n",
       "    }\n",
       "\n",
       "    .dataframe tbody tr th {\n",
       "        vertical-align: top;\n",
       "    }\n",
       "\n",
       "    .dataframe thead th {\n",
       "        text-align: right;\n",
       "    }\n",
       "</style>\n",
       "<table border=\"1\" class=\"dataframe\">\n",
       "  <thead>\n",
       "    <tr style=\"text-align: right;\">\n",
       "      <th></th>\n",
       "      <th>name</th>\n",
       "      <th>packing</th>\n",
       "      <th>sales</th>\n",
       "      <th>reviews</th>\n",
       "      <th>price</th>\n",
       "      <th>store_name</th>\n",
       "    </tr>\n",
       "  </thead>\n",
       "  <tbody>\n",
       "    <tr>\n",
       "      <th>0</th>\n",
       "      <td>Pauls - Pure Milk</td>\n",
       "      <td>1L x 3</td>\n",
       "      <td>20,000+ Sold</td>\n",
       "      <td>(141)</td>\n",
       "      <td>$ 47.90</td>\n",
       "      <td>Sims Trading Company Limited</td>\n",
       "    </tr>\n",
       "    <tr>\n",
       "      <th>1</th>\n",
       "      <td>北海道 - Specially Select 3.6 Milk[4pack]</td>\n",
       "      <td>1L x 4</td>\n",
       "      <td>100,000+ Sold</td>\n",
       "      <td>(1294)</td>\n",
       "      <td>$ 127.60</td>\n",
       "      <td>THE MARKET</td>\n",
       "    </tr>\n",
       "    <tr>\n",
       "      <th>2</th>\n",
       "      <td>DEVONDALE - Full Cream Devondale Milk Australi...</td>\n",
       "      <td>10x1L</td>\n",
       "      <td>1,000+ Sold</td>\n",
       "      <td>(9)</td>\n",
       "      <td>$ 168.00</td>\n",
       "      <td>Tenth Online Store</td>\n",
       "    </tr>\n",
       "    <tr>\n",
       "      <th>3</th>\n",
       "      <td>Rakunoh Mother - Ohaso Milk</td>\n",
       "      <td>1000ml x 3</td>\n",
       "      <td>100,000+ Sold</td>\n",
       "      <td>(910)</td>\n",
       "      <td>$ 117.00</td>\n",
       "      <td>THE MARKET</td>\n",
       "    </tr>\n",
       "    <tr>\n",
       "      <th>4</th>\n",
       "      <td>Fred &amp; Chloe - Fred &amp; Chloe Full Cream Milk 1L...</td>\n",
       "      <td></td>\n",
       "      <td>5,000+ Sold</td>\n",
       "      <td>(60)</td>\n",
       "      <td>$ 172.00</td>\n",
       "      <td>BABYNIKO</td>\n",
       "    </tr>\n",
       "    <tr>\n",
       "      <th>...</th>\n",
       "      <td>...</td>\n",
       "      <td>...</td>\n",
       "      <td>...</td>\n",
       "      <td>...</td>\n",
       "      <td>...</td>\n",
       "      <td>...</td>\n",
       "    </tr>\n",
       "    <tr>\n",
       "      <th>56</th>\n",
       "      <td>Daioni - 牛奶 MILK Daioni Organic 英國有機全脂牛奶(綠牛牛-藍...</td>\n",
       "      <td>12 x 1L</td>\n",
       "      <td>1,000+ Sold</td>\n",
       "      <td>(21)</td>\n",
       "      <td>$ 395.00</td>\n",
       "      <td>Lets Bazaar Company Limited</td>\n",
       "    </tr>\n",
       "    <tr>\n",
       "      <th>57</th>\n",
       "      <td>北海道 - Low Fat Milk</td>\n",
       "      <td>1L x 3</td>\n",
       "      <td>9,000+ Sold</td>\n",
       "      <td>(61)</td>\n",
       "      <td>$ 82.00</td>\n",
       "      <td>THE MARKET</td>\n",
       "    </tr>\n",
       "    <tr>\n",
       "      <th>58</th>\n",
       "      <td>MARUSAN - Organic Soy Milk 1000ml x 6(Box)（EXP...</td>\n",
       "      <td>1000ml ×6</td>\n",
       "      <td>3,000+ Sold</td>\n",
       "      <td>(68)</td>\n",
       "      <td>$ 128.00</td>\n",
       "      <td>Yummy Bear</td>\n",
       "    </tr>\n",
       "    <tr>\n",
       "      <th>59</th>\n",
       "      <td>Binggrae - Binggrae Lychee Peach Milk 6 pcs</td>\n",
       "      <td></td>\n",
       "      <td>1,000+ Sold</td>\n",
       "      <td>(16)</td>\n",
       "      <td>$ 36.00</td>\n",
       "      <td>Universal Food Store</td>\n",
       "    </tr>\n",
       "    <tr>\n",
       "      <th>60</th>\n",
       "      <td>Paul's - Pure Milk</td>\n",
       "      <td>250ml x 6</td>\n",
       "      <td>30,000+ Sold</td>\n",
       "      <td>(179)</td>\n",
       "      <td>$ 39.90</td>\n",
       "      <td>Sims Trading Company Limited</td>\n",
       "    </tr>\n",
       "  </tbody>\n",
       "</table>\n",
       "<p>61 rows × 6 columns</p>\n",
       "</div>"
      ],
      "text/plain": [
       "                                                 name     packing  \\\n",
       "0                                   Pauls - Pure Milk      1L x 3   \n",
       "1              北海道 - Specially Select 3.6 Milk[4pack]      1L x 4   \n",
       "2   DEVONDALE - Full Cream Devondale Milk Australi...       10x1L   \n",
       "3                         Rakunoh Mother - Ohaso Milk  1000ml x 3   \n",
       "4   Fred & Chloe - Fred & Chloe Full Cream Milk 1L...               \n",
       "..                                                ...         ...   \n",
       "56  Daioni - 牛奶 MILK Daioni Organic 英國有機全脂牛奶(綠牛牛-藍...     12 x 1L   \n",
       "57                                 北海道 - Low Fat Milk      1L x 3   \n",
       "58  MARUSAN - Organic Soy Milk 1000ml x 6(Box)（EXP...   1000ml ×6   \n",
       "59        Binggrae - Binggrae Lychee Peach Milk 6 pcs               \n",
       "60                                 Paul's - Pure Milk   250ml x 6   \n",
       "\n",
       "            sales reviews     price                    store_name  \n",
       "0    20,000+ Sold   (141)   $ 47.90  Sims Trading Company Limited  \n",
       "1   100,000+ Sold  (1294)  $ 127.60                    THE MARKET  \n",
       "2     1,000+ Sold     (9)  $ 168.00            Tenth Online Store  \n",
       "3   100,000+ Sold   (910)  $ 117.00                    THE MARKET  \n",
       "4     5,000+ Sold    (60)  $ 172.00                      BABYNIKO  \n",
       "..            ...     ...       ...                           ...  \n",
       "56    1,000+ Sold    (21)  $ 395.00   Lets Bazaar Company Limited  \n",
       "57    9,000+ Sold    (61)   $ 82.00                    THE MARKET  \n",
       "58    3,000+ Sold    (68)  $ 128.00                    Yummy Bear  \n",
       "59    1,000+ Sold    (16)   $ 36.00          Universal Food Store  \n",
       "60   30,000+ Sold   (179)   $ 39.90  Sims Trading Company Limited  \n",
       "\n",
       "[61 rows x 6 columns]"
      ]
     },
     "execution_count": 11,
     "metadata": {},
     "output_type": "execute_result"
    }
   ],
   "source": [
    "df = runAndReturn(searchProductsInPage('Milk', 0))\n",
    "df"
   ]
  },
  {
   "cell_type": "markdown",
   "metadata": {
    "id": "9yB8WrznYpfk"
   },
   "source": [
    "## Getting all data by navigate to all pages automatically using for loop.\n",
    "\n",
    "Let's wrap the function call in a loop with progress bar by `tqdm`.\n",
    "\n"
   ]
  },
  {
   "cell_type": "code",
   "execution_count": 12,
   "metadata": {
    "colab": {
     "base_uri": "https://localhost:8080/"
    },
    "id": "80J4ry_GaSFO",
    "outputId": "ed2851f9-a307-446c-e346-ee3936aad043"
   },
   "outputs": [
    {
     "name": "stdout",
     "output_type": "stream",
     "text": [
      "Defaulting to user installation because normal site-packages is not writeable\r\n",
      "Requirement already satisfied: tqdm in ./Library/Python/3.8/lib/python/site-packages (4.62.3)\n",
      "\u001b[33mWARNING: You are using pip version 20.2.3; however, version 22.0.3 is available.\n",
      "You should consider upgrading via the '/Applications/Xcode.app/Contents/Developer/usr/bin/python3 -m pip install --upgrade pip' command.\u001b[0m\n"
     ]
    }
   ],
   "source": [
    "!pip install tqdm\n",
    "from tqdm import tqdm"
   ]
  },
  {
   "cell_type": "code",
   "execution_count": 13,
   "metadata": {
    "colab": {
     "base_uri": "https://localhost:8080/"
    },
    "id": "DltVSFgtYPI0",
    "outputId": "29b5bd78-ce0e-40ce-fa48-c7c3a06607cb"
   },
   "outputs": [
    {
     "name": "stderr",
     "output_type": "stream",
     "text": [
      "  0%|                                                                                                                                                                                                                                                  | 0/16 [00:00<?, ?it/s]/var/folders/7d/z3l5m6d93bd7yq9l8czmqz1w0000gn/T/ipykernel_57758/1820638797.py:2: FutureWarning: The frame.append method is deprecated and will be removed from pandas in a future version. Use pandas.concat instead.\n",
      "  df = df.append(runAndReturn(searchProductsInPage('Milk', i)), ignore_index=True)\n",
      "  6%|██████████████▋                                                                                                                                                                                                                           | 1/16 [00:14<03:33, 14.23s/it]/var/folders/7d/z3l5m6d93bd7yq9l8czmqz1w0000gn/T/ipykernel_57758/1820638797.py:2: FutureWarning: The frame.append method is deprecated and will be removed from pandas in a future version. Use pandas.concat instead.\n",
      "  df = df.append(runAndReturn(searchProductsInPage('Milk', i)), ignore_index=True)\n",
      " 12%|█████████████████████████████▎                                                                                                                                                                                                            | 2/16 [00:27<03:08, 13.44s/it]/var/folders/7d/z3l5m6d93bd7yq9l8czmqz1w0000gn/T/ipykernel_57758/1820638797.py:2: FutureWarning: The frame.append method is deprecated and will be removed from pandas in a future version. Use pandas.concat instead.\n",
      "  df = df.append(runAndReturn(searchProductsInPage('Milk', i)), ignore_index=True)\n",
      " 19%|███████████████████████████████████████████▉                                                                                                                                                                                              | 3/16 [00:44<03:19, 15.33s/it]/var/folders/7d/z3l5m6d93bd7yq9l8czmqz1w0000gn/T/ipykernel_57758/1820638797.py:2: FutureWarning: The frame.append method is deprecated and will be removed from pandas in a future version. Use pandas.concat instead.\n",
      "  df = df.append(runAndReturn(searchProductsInPage('Milk', i)), ignore_index=True)\n",
      " 25%|██████████████████████████████████████████████████████████▌                                                                                                                                                                               | 4/16 [01:05<03:31, 17.64s/it]/var/folders/7d/z3l5m6d93bd7yq9l8czmqz1w0000gn/T/ipykernel_57758/1820638797.py:2: FutureWarning: The frame.append method is deprecated and will be removed from pandas in a future version. Use pandas.concat instead.\n",
      "  df = df.append(runAndReturn(searchProductsInPage('Milk', i)), ignore_index=True)\n",
      " 31%|█████████████████████████████████████████████████████████████████████████▏                                                                                                                                                                | 5/16 [01:21<03:05, 16.88s/it]/var/folders/7d/z3l5m6d93bd7yq9l8czmqz1w0000gn/T/ipykernel_57758/1820638797.py:2: FutureWarning: The frame.append method is deprecated and will be removed from pandas in a future version. Use pandas.concat instead.\n",
      "  df = df.append(runAndReturn(searchProductsInPage('Milk', i)), ignore_index=True)\n",
      " 38%|███████████████████████████████████████████████████████████████████████████████████████▊                                                                                                                                                  | 6/16 [01:35<02:38, 15.85s/it]/var/folders/7d/z3l5m6d93bd7yq9l8czmqz1w0000gn/T/ipykernel_57758/1820638797.py:2: FutureWarning: The frame.append method is deprecated and will be removed from pandas in a future version. Use pandas.concat instead.\n",
      "  df = df.append(runAndReturn(searchProductsInPage('Milk', i)), ignore_index=True)\n",
      " 44%|██████████████████████████████████████████████████████████████████████████████████████████████████████▍                                                                                                                                   | 7/16 [01:52<02:26, 16.30s/it]/var/folders/7d/z3l5m6d93bd7yq9l8czmqz1w0000gn/T/ipykernel_57758/1820638797.py:2: FutureWarning: The frame.append method is deprecated and will be removed from pandas in a future version. Use pandas.concat instead.\n",
      "  df = df.append(runAndReturn(searchProductsInPage('Milk', i)), ignore_index=True)\n",
      " 50%|█████████████████████████████████████████████████████████████████████████████████████████████████████████████████████                                                                                                                     | 8/16 [02:07<02:07, 15.97s/it]/var/folders/7d/z3l5m6d93bd7yq9l8czmqz1w0000gn/T/ipykernel_57758/1820638797.py:2: FutureWarning: The frame.append method is deprecated and will be removed from pandas in a future version. Use pandas.concat instead.\n",
      "  df = df.append(runAndReturn(searchProductsInPage('Milk', i)), ignore_index=True)\n",
      " 56%|███████████████████████████████████████████████████████████████████████████████████████████████████████████████████████████████████▋                                                                                                      | 9/16 [02:23<01:50, 15.82s/it]/var/folders/7d/z3l5m6d93bd7yq9l8czmqz1w0000gn/T/ipykernel_57758/1820638797.py:2: FutureWarning: The frame.append method is deprecated and will be removed from pandas in a future version. Use pandas.concat instead.\n",
      "  df = df.append(runAndReturn(searchProductsInPage('Milk', i)), ignore_index=True)\n",
      " 62%|█████████████████████████████████████████████████████████████████████████████████████████████████████████████████████████████████████████████████▋                                                                                       | 10/16 [02:37<01:32, 15.48s/it]/var/folders/7d/z3l5m6d93bd7yq9l8czmqz1w0000gn/T/ipykernel_57758/1820638797.py:2: FutureWarning: The frame.append method is deprecated and will be removed from pandas in a future version. Use pandas.concat instead.\n",
      "  df = df.append(runAndReturn(searchProductsInPage('Milk', i)), ignore_index=True)\n",
      " 69%|████████████████████████████████████████████████████████████████████████████████████████████████████████████████████████████████████████████████████████████████▏                                                                        | 11/16 [02:54<01:19, 15.92s/it]/var/folders/7d/z3l5m6d93bd7yq9l8czmqz1w0000gn/T/ipykernel_57758/1820638797.py:2: FutureWarning: The frame.append method is deprecated and will be removed from pandas in a future version. Use pandas.concat instead.\n",
      "  df = df.append(runAndReturn(searchProductsInPage('Milk', i)), ignore_index=True)\n",
      " 75%|██████████████████████████████████████████████████████████████████████████████████████████████████████████████████████████████████████████████████████████████████████████████▊                                                          | 12/16 [03:10<01:03, 15.94s/it]/var/folders/7d/z3l5m6d93bd7yq9l8czmqz1w0000gn/T/ipykernel_57758/1820638797.py:2: FutureWarning: The frame.append method is deprecated and will be removed from pandas in a future version. Use pandas.concat instead.\n",
      "  df = df.append(runAndReturn(searchProductsInPage('Milk', i)), ignore_index=True)\n",
      " 81%|█████████████████████████████████████████████████████████████████████████████████████████████████████████████████████████████████████████████████████████████████████████████████████████████▎                                           | 13/16 [03:28<00:49, 16.54s/it]/var/folders/7d/z3l5m6d93bd7yq9l8czmqz1w0000gn/T/ipykernel_57758/1820638797.py:2: FutureWarning: The frame.append method is deprecated and will be removed from pandas in a future version. Use pandas.concat instead.\n",
      "  df = df.append(runAndReturn(searchProductsInPage('Milk', i)), ignore_index=True)\n",
      " 88%|███████████████████████████████████████████████████████████████████████████████████████████████████████████████████████████████████████████████████████████████████████████████████████████████████████████▉                             | 14/16 [03:45<00:32, 16.46s/it]/var/folders/7d/z3l5m6d93bd7yq9l8czmqz1w0000gn/T/ipykernel_57758/1820638797.py:2: FutureWarning: The frame.append method is deprecated and will be removed from pandas in a future version. Use pandas.concat instead.\n",
      "  df = df.append(runAndReturn(searchProductsInPage('Milk', i)), ignore_index=True)\n",
      " 94%|██████████████████████████████████████████████████████████████████████████████████████████████████████████████████████████████████████████████████████████████████████████████████████████████████████████████████████████▍              | 15/16 [03:59<00:15, 15.72s/it]/var/folders/7d/z3l5m6d93bd7yq9l8czmqz1w0000gn/T/ipykernel_57758/1820638797.py:2: FutureWarning: The frame.append method is deprecated and will be removed from pandas in a future version. Use pandas.concat instead.\n",
      "  df = df.append(runAndReturn(searchProductsInPage('Milk', i)), ignore_index=True)\n",
      "100%|█████████████████████████████████████████████████████████████████████████████████████████████████████████████████████████████████████████████████████████████████████████████████████████████████████████████████████████████████████████| 16/16 [04:17<00:00, 16.07s/it]\n"
     ]
    }
   ],
   "source": [
    "for i in tqdm(range(1, totalPages)):\n",
    "  df = df.append(runAndReturn(searchProductsInPage('Milk', i)), ignore_index=True)"
   ]
  },
  {
   "cell_type": "code",
   "execution_count": null,
   "metadata": {
    "id": "CyESqLawikUH"
   },
   "outputs": [],
   "source": [
    "df.to_csv('hktvmall_milk.csv')"
   ]
  },
  {
   "cell_type": "markdown",
   "metadata": {
    "id": "bEobNA_fLuWD"
   },
   "source": [
    "# Data preprocessing"
   ]
  },
  {
   "cell_type": "code",
   "execution_count": 30,
   "metadata": {
    "colab": {
     "base_uri": "https://localhost:8080/",
     "height": 424
    },
    "id": "P5_jdJqYaAjc",
    "outputId": "726f9aeb-cabf-40c4-f9c4-d4d69276abc7"
   },
   "outputs": [
    {
     "data": {
      "text/html": [
       "<div>\n",
       "<style scoped>\n",
       "    .dataframe tbody tr th:only-of-type {\n",
       "        vertical-align: middle;\n",
       "    }\n",
       "\n",
       "    .dataframe tbody tr th {\n",
       "        vertical-align: top;\n",
       "    }\n",
       "\n",
       "    .dataframe thead th {\n",
       "        text-align: right;\n",
       "    }\n",
       "</style>\n",
       "<table border=\"1\" class=\"dataframe\">\n",
       "  <thead>\n",
       "    <tr style=\"text-align: right;\">\n",
       "      <th></th>\n",
       "      <th>name</th>\n",
       "      <th>packing</th>\n",
       "      <th>sales</th>\n",
       "      <th>reviews</th>\n",
       "      <th>price</th>\n",
       "      <th>store_name</th>\n",
       "    </tr>\n",
       "  </thead>\n",
       "  <tbody>\n",
       "    <tr>\n",
       "      <th>0</th>\n",
       "      <td>Pauls - Pure Milk</td>\n",
       "      <td>1L x 3</td>\n",
       "      <td>20,000+ Sold</td>\n",
       "      <td>(141)</td>\n",
       "      <td>$ 47.90</td>\n",
       "      <td>Sims Trading Company Limited</td>\n",
       "    </tr>\n",
       "    <tr>\n",
       "      <th>1</th>\n",
       "      <td>北海道 - Specially Select 3.6 Milk[4pack]</td>\n",
       "      <td>1L x 4</td>\n",
       "      <td>100,000+ Sold</td>\n",
       "      <td>(1294)</td>\n",
       "      <td>$ 127.60</td>\n",
       "      <td>THE MARKET</td>\n",
       "    </tr>\n",
       "    <tr>\n",
       "      <th>2</th>\n",
       "      <td>DEVONDALE - Full Cream Devondale Milk Australi...</td>\n",
       "      <td>10x1L</td>\n",
       "      <td>1,000+ Sold</td>\n",
       "      <td>(9)</td>\n",
       "      <td>$ 168.00</td>\n",
       "      <td>Tenth Online Store</td>\n",
       "    </tr>\n",
       "    <tr>\n",
       "      <th>3</th>\n",
       "      <td>Rakunoh Mother - Ohaso Milk</td>\n",
       "      <td>1000ml x 3</td>\n",
       "      <td>100,000+ Sold</td>\n",
       "      <td>(910)</td>\n",
       "      <td>$ 117.00</td>\n",
       "      <td>THE MARKET</td>\n",
       "    </tr>\n",
       "    <tr>\n",
       "      <th>4</th>\n",
       "      <td>Fred &amp; Chloe - Fred &amp; Chloe Full Cream Milk 1L...</td>\n",
       "      <td></td>\n",
       "      <td>5,000+ Sold</td>\n",
       "      <td>(60)</td>\n",
       "      <td>$ 172.00</td>\n",
       "      <td>BABYNIKO</td>\n",
       "    </tr>\n",
       "    <tr>\n",
       "      <th>...</th>\n",
       "      <td>...</td>\n",
       "      <td>...</td>\n",
       "      <td>...</td>\n",
       "      <td>...</td>\n",
       "      <td>...</td>\n",
       "      <td>...</td>\n",
       "    </tr>\n",
       "    <tr>\n",
       "      <th>996</th>\n",
       "      <td>Kam Cha - Hong Kong Style Milk Tea x 4</td>\n",
       "      <td>280ml x 4</td>\n",
       "      <td>900+ Sold</td>\n",
       "      <td>(7)</td>\n",
       "      <td>$ 44.00</td>\n",
       "      <td>Pure Source International</td>\n",
       "    </tr>\n",
       "    <tr>\n",
       "      <th>997</th>\n",
       "      <td>Vita - Vita Hong Kong Style Milk Tea 250ML X 9...</td>\n",
       "      <td>250ML x 9</td>\n",
       "      <td>2,000+ Sold</td>\n",
       "      <td>(12)</td>\n",
       "      <td>$ 38.90</td>\n",
       "      <td>VITASOY / VITA</td>\n",
       "    </tr>\n",
       "    <tr>\n",
       "      <th>998</th>\n",
       "      <td>NESTLÉ CARNATION - Omega High Calcium Milk Pow...</td>\n",
       "      <td>1700G</td>\n",
       "      <td>300+ Sold</td>\n",
       "      <td>(6)</td>\n",
       "      <td>$ 68.00</td>\n",
       "      <td>Beauty Box</td>\n",
       "    </tr>\n",
       "    <tr>\n",
       "      <th>999</th>\n",
       "      <td>Royal Banquet - 滋補糖水系列 - Milk Red Jujube with ...</td>\n",
       "      <td></td>\n",
       "      <td>900+ Sold</td>\n",
       "      <td>(16)</td>\n",
       "      <td>$ 35.00</td>\n",
       "      <td>The Food Source Limited</td>\n",
       "    </tr>\n",
       "    <tr>\n",
       "      <th>1000</th>\n",
       "      <td>babySWIPE - The Concentrate Milk Bottle And Fr...</td>\n",
       "      <td>650ml</td>\n",
       "      <td>10,000+ Sold</td>\n",
       "      <td>(130)</td>\n",
       "      <td>$ 48.90</td>\n",
       "      <td>SWIPE Official Flagship Store</td>\n",
       "    </tr>\n",
       "  </tbody>\n",
       "</table>\n",
       "<p>1000 rows × 6 columns</p>\n",
       "</div>"
      ],
      "text/plain": [
       "                                                   name     packing  \\\n",
       "0                                     Pauls - Pure Milk      1L x 3   \n",
       "1                北海道 - Specially Select 3.6 Milk[4pack]      1L x 4   \n",
       "2     DEVONDALE - Full Cream Devondale Milk Australi...       10x1L   \n",
       "3                           Rakunoh Mother - Ohaso Milk  1000ml x 3   \n",
       "4     Fred & Chloe - Fred & Chloe Full Cream Milk 1L...               \n",
       "...                                                 ...         ...   \n",
       "996              Kam Cha - Hong Kong Style Milk Tea x 4   280ml x 4   \n",
       "997   Vita - Vita Hong Kong Style Milk Tea 250ML X 9...   250ML x 9   \n",
       "998   NESTLÉ CARNATION - Omega High Calcium Milk Pow...       1700G   \n",
       "999   Royal Banquet - 滋補糖水系列 - Milk Red Jujube with ...               \n",
       "1000  babySWIPE - The Concentrate Milk Bottle And Fr...       650ml   \n",
       "\n",
       "              sales reviews     price                     store_name  \n",
       "0      20,000+ Sold   (141)   $ 47.90   Sims Trading Company Limited  \n",
       "1     100,000+ Sold  (1294)  $ 127.60                     THE MARKET  \n",
       "2       1,000+ Sold     (9)  $ 168.00             Tenth Online Store  \n",
       "3     100,000+ Sold   (910)  $ 117.00                     THE MARKET  \n",
       "4       5,000+ Sold    (60)  $ 172.00                       BABYNIKO  \n",
       "...             ...     ...       ...                            ...  \n",
       "996       900+ Sold     (7)   $ 44.00      Pure Source International  \n",
       "997     2,000+ Sold    (12)   $ 38.90                 VITASOY / VITA  \n",
       "998       300+ Sold     (6)   $ 68.00                     Beauty Box  \n",
       "999       900+ Sold    (16)   $ 35.00        The Food Source Limited  \n",
       "1000   10,000+ Sold   (130)   $ 48.90  SWIPE Official Flagship Store  \n",
       "\n",
       "[1000 rows x 6 columns]"
      ]
     },
     "execution_count": 30,
     "metadata": {},
     "output_type": "execute_result"
    }
   ],
   "source": [
    "import numpy as np\n",
    "\n",
    "df"
   ]
  },
  {
   "cell_type": "code",
   "execution_count": null,
   "metadata": {
    "colab": {
     "base_uri": "https://localhost:8080/",
     "height": 537
    },
    "id": "csV-92rsbq7t",
    "outputId": "3c078a4b-168f-4512-a8b1-99181e0dc4be"
   },
   "outputs": [
    {
     "data": {
      "text/html": [
       "<div>\n",
       "<style scoped>\n",
       "    .dataframe tbody tr th:only-of-type {\n",
       "        vertical-align: middle;\n",
       "    }\n",
       "\n",
       "    .dataframe tbody tr th {\n",
       "        vertical-align: top;\n",
       "    }\n",
       "\n",
       "    .dataframe thead th {\n",
       "        text-align: right;\n",
       "    }\n",
       "</style>\n",
       "<table border=\"1\" class=\"dataframe\">\n",
       "  <thead>\n",
       "    <tr style=\"text-align: right;\">\n",
       "      <th></th>\n",
       "      <th>name</th>\n",
       "      <th>packing</th>\n",
       "      <th>sales</th>\n",
       "      <th>reviews</th>\n",
       "      <th>price</th>\n",
       "      <th>store_name</th>\n",
       "    </tr>\n",
       "  </thead>\n",
       "  <tbody>\n",
       "    <tr>\n",
       "      <th>0</th>\n",
       "      <td>Pauls - Pure Milk</td>\n",
       "      <td>1L x 3</td>\n",
       "      <td>20,000+ Sold</td>\n",
       "      <td>(141)</td>\n",
       "      <td>$ 47.90</td>\n",
       "      <td>Sims Trading Company Limited</td>\n",
       "    </tr>\n",
       "    <tr>\n",
       "      <th>1</th>\n",
       "      <td>北海道 - Specially Select 3.6 Milk[4pack]</td>\n",
       "      <td>1L x 4</td>\n",
       "      <td>100,000+ Sold</td>\n",
       "      <td>(1294)</td>\n",
       "      <td>$ 127.60</td>\n",
       "      <td>THE MARKET</td>\n",
       "    </tr>\n",
       "    <tr>\n",
       "      <th>2</th>\n",
       "      <td>DEVONDALE - Full Cream Devondale Milk Australi...</td>\n",
       "      <td>10x1L</td>\n",
       "      <td>1,000+ Sold</td>\n",
       "      <td>(9)</td>\n",
       "      <td>$ 168.00</td>\n",
       "      <td>Tenth Online Store</td>\n",
       "    </tr>\n",
       "    <tr>\n",
       "      <th>3</th>\n",
       "      <td>Rakunoh Mother - Ohaso Milk</td>\n",
       "      <td>1000ml x 3</td>\n",
       "      <td>100,000+ Sold</td>\n",
       "      <td>(910)</td>\n",
       "      <td>$ 117.00</td>\n",
       "      <td>THE MARKET</td>\n",
       "    </tr>\n",
       "    <tr>\n",
       "      <th>4</th>\n",
       "      <td>Fred &amp; Chloe - Fred &amp; Chloe Full Cream Milk 1L...</td>\n",
       "      <td></td>\n",
       "      <td>5,000+ Sold</td>\n",
       "      <td>(60)</td>\n",
       "      <td>$ 172.00</td>\n",
       "      <td>BABYNIKO</td>\n",
       "    </tr>\n",
       "    <tr>\n",
       "      <th>5</th>\n",
       "      <td>Anlene - Black Sesame High Calcium Low Fat Milk</td>\n",
       "      <td>180ml x 6</td>\n",
       "      <td>20,000+ Sold</td>\n",
       "      <td>(230)</td>\n",
       "      <td>$ 23.90</td>\n",
       "      <td>Anlene</td>\n",
       "    </tr>\n",
       "    <tr>\n",
       "      <th>6</th>\n",
       "      <td>Black &amp; White - Pure Milk</td>\n",
       "      <td>1000ml x 4</td>\n",
       "      <td>10,000+ Sold</td>\n",
       "      <td>(221)</td>\n",
       "      <td>$ 79.60</td>\n",
       "      <td>Black &amp; White®</td>\n",
       "    </tr>\n",
       "    <tr>\n",
       "      <th>7</th>\n",
       "      <td>Rakunoh Mother - Ohaso Milk</td>\n",
       "      <td>200ml x 6</td>\n",
       "      <td>20,000+ Sold</td>\n",
       "      <td>(292)</td>\n",
       "      <td>$ 64.00</td>\n",
       "      <td>THE MARKET</td>\n",
       "    </tr>\n",
       "    <tr>\n",
       "      <th>8</th>\n",
       "      <td>Dutch Lady® - Original Milk Beverage 4 x 110mL...</td>\n",
       "      <td>110ml x 4 x 2</td>\n",
       "      <td>60,000+ Sold</td>\n",
       "      <td>(338)</td>\n",
       "      <td>$ 20.00</td>\n",
       "      <td>Dutch Lady</td>\n",
       "    </tr>\n",
       "    <tr>\n",
       "      <th>9</th>\n",
       "      <td>Dutch Lady® - High Calcium Less Fat Milk Bever...</td>\n",
       "      <td>225ml x 6 x 2</td>\n",
       "      <td>10,000+ Sold</td>\n",
       "      <td>(129)</td>\n",
       "      <td>$ 39.60</td>\n",
       "      <td>Dutch Lady</td>\n",
       "    </tr>\n",
       "  </tbody>\n",
       "</table>\n",
       "</div>"
      ],
      "text/plain": [
       "                                                name        packing  \\\n",
       "0                                  Pauls - Pure Milk         1L x 3   \n",
       "1             北海道 - Specially Select 3.6 Milk[4pack]         1L x 4   \n",
       "2  DEVONDALE - Full Cream Devondale Milk Australi...          10x1L   \n",
       "3                        Rakunoh Mother - Ohaso Milk     1000ml x 3   \n",
       "4  Fred & Chloe - Fred & Chloe Full Cream Milk 1L...                  \n",
       "5    Anlene - Black Sesame High Calcium Low Fat Milk      180ml x 6   \n",
       "6                          Black & White - Pure Milk     1000ml x 4   \n",
       "7                        Rakunoh Mother - Ohaso Milk      200ml x 6   \n",
       "8  Dutch Lady® - Original Milk Beverage 4 x 110mL...  110ml x 4 x 2   \n",
       "9  Dutch Lady® - High Calcium Less Fat Milk Bever...  225ml x 6 x 2   \n",
       "\n",
       "           sales reviews     price                    store_name  \n",
       "0   20,000+ Sold   (141)   $ 47.90  Sims Trading Company Limited  \n",
       "1  100,000+ Sold  (1294)  $ 127.60                    THE MARKET  \n",
       "2    1,000+ Sold     (9)  $ 168.00            Tenth Online Store  \n",
       "3  100,000+ Sold   (910)  $ 117.00                    THE MARKET  \n",
       "4    5,000+ Sold    (60)  $ 172.00                      BABYNIKO  \n",
       "5   20,000+ Sold   (230)   $ 23.90                        Anlene  \n",
       "6   10,000+ Sold   (221)   $ 79.60                Black & White®  \n",
       "7   20,000+ Sold   (292)   $ 64.00                    THE MARKET  \n",
       "8   60,000+ Sold   (338)   $ 20.00                    Dutch Lady  \n",
       "9   10,000+ Sold   (129)   $ 39.60                    Dutch Lady  "
      ]
     },
     "execution_count": 122,
     "metadata": {},
     "output_type": "execute_result"
    }
   ],
   "source": [
    "df.head(10)"
   ]
  },
  {
   "cell_type": "code",
   "execution_count": null,
   "metadata": {
    "colab": {
     "base_uri": "https://localhost:8080/"
    },
    "id": "c4R3MHeZbwc9",
    "outputId": "d57045bd-0281-44c9-adb7-13706e242fc7"
   },
   "outputs": [
    {
     "name": "stdout",
     "output_type": "stream",
     "text": [
      "<class 'pandas.core.frame.DataFrame'>\n",
      "RangeIndex: 1001 entries, 0 to 1000\n",
      "Data columns (total 6 columns):\n",
      " #   Column      Non-Null Count  Dtype \n",
      "---  ------      --------------  ----- \n",
      " 0   name        1001 non-null   object\n",
      " 1   packing     1001 non-null   object\n",
      " 2   sales       1001 non-null   object\n",
      " 3   reviews     1001 non-null   object\n",
      " 4   price       1001 non-null   object\n",
      " 5   store_name  1001 non-null   object\n",
      "dtypes: object(6)\n",
      "memory usage: 47.0+ KB\n"
     ]
    }
   ],
   "source": [
    "df.info()"
   ]
  },
  {
   "cell_type": "markdown",
   "metadata": {
    "id": "wUpZgb0qb1y9"
   },
   "source": [
    "## Data cleaning\n",
    "\n",
    "Let's clean up each feature one by one and convert them back to corresponding data type."
   ]
  },
  {
   "cell_type": "markdown",
   "metadata": {
    "id": "Qbq2Rh6idoet"
   },
   "source": [
    "### name"
   ]
  },
  {
   "cell_type": "code",
   "execution_count": 21,
   "metadata": {
    "id": "zo0dphCUdntd"
   },
   "outputs": [],
   "source": [
    "df['name'] = df['name'].str.strip() # revmove leadnig and trailing spaces"
   ]
  },
  {
   "cell_type": "code",
   "execution_count": 22,
   "metadata": {
    "colab": {
     "base_uri": "https://localhost:8080/",
     "height": 81
    },
    "id": "I3XVIZ68jceO",
    "outputId": "9c91676b-d2cb-4395-f324-bd12dd20bdb6"
   },
   "outputs": [
    {
     "data": {
      "text/html": [
       "<div>\n",
       "<style scoped>\n",
       "    .dataframe tbody tr th:only-of-type {\n",
       "        vertical-align: middle;\n",
       "    }\n",
       "\n",
       "    .dataframe tbody tr th {\n",
       "        vertical-align: top;\n",
       "    }\n",
       "\n",
       "    .dataframe thead th {\n",
       "        text-align: right;\n",
       "    }\n",
       "</style>\n",
       "<table border=\"1\" class=\"dataframe\">\n",
       "  <thead>\n",
       "    <tr style=\"text-align: right;\">\n",
       "      <th></th>\n",
       "      <th>name</th>\n",
       "      <th>packing</th>\n",
       "      <th>sales</th>\n",
       "      <th>reviews</th>\n",
       "      <th>price</th>\n",
       "      <th>store_name</th>\n",
       "    </tr>\n",
       "  </thead>\n",
       "  <tbody>\n",
       "    <tr>\n",
       "      <th>10</th>\n",
       "      <td></td>\n",
       "      <td></td>\n",
       "      <td></td>\n",
       "      <td></td>\n",
       "      <td>$ 130.00</td>\n",
       "      <td></td>\n",
       "    </tr>\n",
       "  </tbody>\n",
       "</table>\n",
       "</div>"
      ],
      "text/plain": [
       "   name packing sales reviews     price store_name\n",
       "10                             $ 130.00           "
      ]
     },
     "execution_count": 22,
     "metadata": {},
     "output_type": "execute_result"
    }
   ],
   "source": [
    "df[df['name'].apply(len) == 0]"
   ]
  },
  {
   "cell_type": "code",
   "execution_count": 23,
   "metadata": {
    "id": "lzpUim9Hjjpm"
   },
   "outputs": [],
   "source": [
    "df = df[df['name'].apply(len) != 0] # dropping the empty record"
   ]
  },
  {
   "cell_type": "code",
   "execution_count": 24,
   "metadata": {
    "colab": {
     "base_uri": "https://localhost:8080/"
    },
    "id": "a58-_N1yjBZe",
    "outputId": "eaf31d8c-7370-4297-9f3a-36e80ebd36f4"
   },
   "outputs": [
    {
     "name": "stdout",
     "output_type": "stream",
     "text": [
      "<class 'pandas.core.series.Series'>\n",
      "Int64Index: 1000 entries, 0 to 1000\n",
      "Series name: name\n",
      "Non-Null Count  Dtype \n",
      "--------------  ----- \n",
      "1000 non-null   object\n",
      "dtypes: object(1)\n",
      "memory usage: 15.6+ KB\n"
     ]
    }
   ],
   "source": [
    "df['name'].info()"
   ]
  },
  {
   "cell_type": "markdown",
   "metadata": {
    "id": "7kOFGpEgeMC9"
   },
   "source": [
    "### packing"
   ]
  },
  {
   "cell_type": "code",
   "execution_count": 39,
   "metadata": {
    "id": "uUVUPbaPfiu9"
   },
   "outputs": [],
   "source": [
    "df['packing'] = df['packing'].str.strip() # revmove leadnig and trailing spaces"
   ]
  },
  {
   "cell_type": "code",
   "execution_count": 40,
   "metadata": {
    "colab": {
     "base_uri": "https://localhost:8080/",
     "height": 563
    },
    "id": "qrRl0jAPj9BG",
    "outputId": "8fb863ad-13cb-409a-8d57-f59b56d3086c"
   },
   "outputs": [
    {
     "data": {
      "text/html": [
       "<div>\n",
       "<style scoped>\n",
       "    .dataframe tbody tr th:only-of-type {\n",
       "        vertical-align: middle;\n",
       "    }\n",
       "\n",
       "    .dataframe tbody tr th {\n",
       "        vertical-align: top;\n",
       "    }\n",
       "\n",
       "    .dataframe thead th {\n",
       "        text-align: right;\n",
       "    }\n",
       "</style>\n",
       "<table border=\"1\" class=\"dataframe\">\n",
       "  <thead>\n",
       "    <tr style=\"text-align: right;\">\n",
       "      <th></th>\n",
       "      <th>name</th>\n",
       "      <th>packing</th>\n",
       "      <th>sales</th>\n",
       "      <th>reviews</th>\n",
       "      <th>price</th>\n",
       "      <th>store_name</th>\n",
       "      <th>name_vector</th>\n",
       "    </tr>\n",
       "  </thead>\n",
       "  <tbody>\n",
       "    <tr>\n",
       "      <th>4</th>\n",
       "      <td>Fred &amp; Chloe - Fred &amp; Chloe Full Cream Milk 1L...</td>\n",
       "      <td></td>\n",
       "      <td>5,000+ Sold</td>\n",
       "      <td>(60)</td>\n",
       "      <td>$ 172.00</td>\n",
       "      <td>BABYNIKO</td>\n",
       "      <td>NaN</td>\n",
       "    </tr>\n",
       "    <tr>\n",
       "      <th>14</th>\n",
       "      <td>DEVONDALE - 澳洲德運全脂保鮮奶 Devondale UHT Full Cream...</td>\n",
       "      <td></td>\n",
       "      <td>900+ Sold</td>\n",
       "      <td>(1)</td>\n",
       "      <td>$ 46.00</td>\n",
       "      <td>Lets Bazaar Company Limited</td>\n",
       "      <td>NaN</td>\n",
       "    </tr>\n",
       "    <tr>\n",
       "      <th>16</th>\n",
       "      <td>Fred &amp; Chloe - Fred &amp; Chloe Full Cream Milk 1L...</td>\n",
       "      <td></td>\n",
       "      <td>5,000+ Sold</td>\n",
       "      <td>(67)</td>\n",
       "      <td>$ 38.00</td>\n",
       "      <td>BABYNIKO</td>\n",
       "      <td>NaN</td>\n",
       "    </tr>\n",
       "    <tr>\n",
       "      <th>17</th>\n",
       "      <td>MILK - Emmi Swiss Premium Milk  伊美 特級牛奶  原箱18 ...</td>\n",
       "      <td></td>\n",
       "      <td>1,000+ Sold</td>\n",
       "      <td>(2)</td>\n",
       "      <td>$ 180.00</td>\n",
       "      <td>Lets Bazaar Company Limited</td>\n",
       "      <td>NaN</td>\n",
       "    </tr>\n",
       "    <tr>\n",
       "      <th>24</th>\n",
       "      <td>Tai Wo - Tai Wo Soybean Milk - Original (408ml...</td>\n",
       "      <td></td>\n",
       "      <td>30,000+ Sold</td>\n",
       "      <td>(818)</td>\n",
       "      <td>$ 45.00</td>\n",
       "      <td>Sanyode</td>\n",
       "      <td>NaN</td>\n",
       "    </tr>\n",
       "    <tr>\n",
       "      <th>...</th>\n",
       "      <td>...</td>\n",
       "      <td>...</td>\n",
       "      <td>...</td>\n",
       "      <td>...</td>\n",
       "      <td>...</td>\n",
       "      <td>...</td>\n",
       "      <td>...</td>\n",
       "    </tr>\n",
       "    <tr>\n",
       "      <th>958</th>\n",
       "      <td>Dutch Lady® - [Full Box]DUTCH LADY Original Mi...</td>\n",
       "      <td></td>\n",
       "      <td></td>\n",
       "      <td></td>\n",
       "      <td>$ 178.00</td>\n",
       "      <td>Lingsik King 零食大王  [online Snacks Shop]</td>\n",
       "      <td>NaN</td>\n",
       "    </tr>\n",
       "    <tr>\n",
       "      <th>962</th>\n",
       "      <td>Emmi - EMMI SWISS PREMIUM SEMI-SKIMMED MILK 1 ...</td>\n",
       "      <td></td>\n",
       "      <td></td>\n",
       "      <td></td>\n",
       "      <td>$ 368.00</td>\n",
       "      <td>Ascend (HK) Company Limited</td>\n",
       "      <td>NaN</td>\n",
       "    </tr>\n",
       "    <tr>\n",
       "      <th>970</th>\n",
       "      <td>Unionsum - Coconut Milk Golden Cake (450g)</td>\n",
       "      <td></td>\n",
       "      <td>3,000+ Sold</td>\n",
       "      <td>(31)</td>\n",
       "      <td>$ 48.00</td>\n",
       "      <td>Unionsum</td>\n",
       "      <td>NaN</td>\n",
       "    </tr>\n",
       "    <tr>\n",
       "      <th>991</th>\n",
       "      <td>Anessa - Perfect UV Sunscreen Skincare Milk Tr...</td>\n",
       "      <td></td>\n",
       "      <td>500+ Sold</td>\n",
       "      <td>(4)</td>\n",
       "      <td>$ 209.00</td>\n",
       "      <td>Shiseido 資生堂個人護理官方旗艦店</td>\n",
       "      <td>NaN</td>\n",
       "    </tr>\n",
       "    <tr>\n",
       "      <th>999</th>\n",
       "      <td>Royal Banquet - 滋補糖水系列 - Milk Red Jujube with ...</td>\n",
       "      <td></td>\n",
       "      <td>900+ Sold</td>\n",
       "      <td>(16)</td>\n",
       "      <td>$ 35.00</td>\n",
       "      <td>The Food Source Limited</td>\n",
       "      <td>NaN</td>\n",
       "    </tr>\n",
       "  </tbody>\n",
       "</table>\n",
       "<p>356 rows × 7 columns</p>\n",
       "</div>"
      ],
      "text/plain": [
       "                                                  name packing         sales  \\\n",
       "4    Fred & Chloe - Fred & Chloe Full Cream Milk 1L...           5,000+ Sold   \n",
       "14   DEVONDALE - 澳洲德運全脂保鮮奶 Devondale UHT Full Cream...             900+ Sold   \n",
       "16   Fred & Chloe - Fred & Chloe Full Cream Milk 1L...           5,000+ Sold   \n",
       "17   MILK - Emmi Swiss Premium Milk  伊美 特級牛奶  原箱18 ...           1,000+ Sold   \n",
       "24   Tai Wo - Tai Wo Soybean Milk - Original (408ml...          30,000+ Sold   \n",
       "..                                                 ...     ...           ...   \n",
       "958  Dutch Lady® - [Full Box]DUTCH LADY Original Mi...                         \n",
       "962  Emmi - EMMI SWISS PREMIUM SEMI-SKIMMED MILK 1 ...                         \n",
       "970         Unionsum - Coconut Milk Golden Cake (450g)           3,000+ Sold   \n",
       "991  Anessa - Perfect UV Sunscreen Skincare Milk Tr...             500+ Sold   \n",
       "999  Royal Banquet - 滋補糖水系列 - Milk Red Jujube with ...             900+ Sold   \n",
       "\n",
       "    reviews     price                               store_name name_vector  \n",
       "4      (60)  $ 172.00                                 BABYNIKO         NaN  \n",
       "14      (1)   $ 46.00              Lets Bazaar Company Limited         NaN  \n",
       "16     (67)   $ 38.00                                 BABYNIKO         NaN  \n",
       "17      (2)  $ 180.00              Lets Bazaar Company Limited         NaN  \n",
       "24    (818)   $ 45.00                                  Sanyode         NaN  \n",
       "..      ...       ...                                      ...         ...  \n",
       "958          $ 178.00  Lingsik King 零食大王  [online Snacks Shop]         NaN  \n",
       "962          $ 368.00              Ascend (HK) Company Limited         NaN  \n",
       "970    (31)   $ 48.00                                 Unionsum         NaN  \n",
       "991     (4)  $ 209.00                    Shiseido 資生堂個人護理官方旗艦店         NaN  \n",
       "999    (16)   $ 35.00                  The Food Source Limited         NaN  \n",
       "\n",
       "[356 rows x 7 columns]"
      ]
     },
     "execution_count": 40,
     "metadata": {},
     "output_type": "execute_result"
    }
   ],
   "source": [
    "df[df['packing'].apply(len) == 0]"
   ]
  },
  {
   "cell_type": "markdown",
   "metadata": {
    "id": "JnPgapvDdfzd"
   },
   "source": [
    "### sales"
   ]
  },
  {
   "cell_type": "code",
   "execution_count": 41,
   "metadata": {
    "colab": {
     "base_uri": "https://localhost:8080/"
    },
    "id": "sqRd26cIb1M8",
    "outputId": "f21cbb24-be84-472f-97b2-0152c8e8b77e"
   },
   "outputs": [
    {
     "data": {
      "text/plain": [
       "0     20,000\n",
       "1    100,000\n",
       "2      1,000\n",
       "3    100,000\n",
       "4      5,000\n",
       "Name: sales, dtype: object"
      ]
     },
     "execution_count": 41,
     "metadata": {},
     "output_type": "execute_result"
    }
   ],
   "source": [
    "df['sales'] = df['sales'].str.strip()\n",
    "df['sales'] = df['sales'].str.rstrip('+ Sold') # remove \"+ Sold\" on the right side\n",
    "df['sales'].head(5)"
   ]
  },
  {
   "cell_type": "code",
   "execution_count": 42,
   "metadata": {
    "colab": {
     "base_uri": "https://localhost:8080/"
    },
    "id": "V_uqTJpLcXm1",
    "outputId": "07757095-781c-41fa-a9d5-cfa100511fd8"
   },
   "outputs": [
    {
     "data": {
      "text/plain": [
       "0     20000\n",
       "1    100000\n",
       "2      1000\n",
       "3    100000\n",
       "4      5000\n",
       "Name: sales, dtype: object"
      ]
     },
     "execution_count": 42,
     "metadata": {},
     "output_type": "execute_result"
    }
   ],
   "source": [
    "df['sales'] = df['sales'].str.replace(',','') # replace , with empty string\n",
    "df['sales'].head(5)"
   ]
  },
  {
   "cell_type": "code",
   "execution_count": 43,
   "metadata": {
    "id": "6ADiTaT8kuA2"
   },
   "outputs": [],
   "source": [
    "df['sales'].replace(np.nan, 0, inplace=True) # replace nan with 0"
   ]
  },
  {
   "cell_type": "code",
   "execution_count": 44,
   "metadata": {
    "id": "mB9WHA1xkY8N"
   },
   "outputs": [],
   "source": [
    "df['sales'].replace('', 0, inplace=True) # replace empty string with 0"
   ]
  },
  {
   "cell_type": "code",
   "execution_count": 45,
   "metadata": {
    "id": "Pc2i7LyGdEe9"
   },
   "outputs": [],
   "source": [
    "df['sales'] = df['sales'].astype(int) # convert the whole series to int type"
   ]
  },
  {
   "cell_type": "code",
   "execution_count": 46,
   "metadata": {
    "colab": {
     "base_uri": "https://localhost:8080/"
    },
    "id": "z-DSIFxaiANu",
    "outputId": "e685c982-bb05-4156-e20e-79dd3a5953e0"
   },
   "outputs": [
    {
     "name": "stdout",
     "output_type": "stream",
     "text": [
      "<class 'pandas.core.series.Series'>\n",
      "Int64Index: 1000 entries, 0 to 1000\n",
      "Series name: sales\n",
      "Non-Null Count  Dtype\n",
      "--------------  -----\n",
      "1000 non-null   int64\n",
      "dtypes: int64(1)\n",
      "memory usage: 15.6 KB\n"
     ]
    }
   ],
   "source": [
    "df['sales'].info()"
   ]
  },
  {
   "cell_type": "markdown",
   "metadata": {
    "id": "BTuWKuqGdiBB"
   },
   "source": [
    "### reviews"
   ]
  },
  {
   "cell_type": "code",
   "execution_count": 47,
   "metadata": {
    "id": "9Zv9ycO2hSFG"
   },
   "outputs": [],
   "source": [
    "df['reviews'] = df['reviews'].str.strip()\n",
    "df['reviews'] = df['reviews'].str.lstrip('(')\n",
    "df['reviews'] = df['reviews'].str.rstrip(')')"
   ]
  },
  {
   "cell_type": "code",
   "execution_count": 48,
   "metadata": {
    "id": "ik7HY2S6lJEG"
   },
   "outputs": [],
   "source": [
    "df['reviews'].replace('', 0, inplace=True) # replace empty string with 0"
   ]
  },
  {
   "cell_type": "code",
   "execution_count": 49,
   "metadata": {
    "id": "eQn0qGCvhtMF"
   },
   "outputs": [],
   "source": [
    "df['reviews'] = df['reviews'].astype(int)"
   ]
  },
  {
   "cell_type": "code",
   "execution_count": 50,
   "metadata": {
    "colab": {
     "base_uri": "https://localhost:8080/"
    },
    "id": "qUM0Jd2ulSH1",
    "outputId": "f7d17b1c-c312-4228-d08e-f5871ed26382"
   },
   "outputs": [
    {
     "name": "stdout",
     "output_type": "stream",
     "text": [
      "<class 'pandas.core.series.Series'>\n",
      "Int64Index: 1000 entries, 0 to 1000\n",
      "Series name: reviews\n",
      "Non-Null Count  Dtype\n",
      "--------------  -----\n",
      "1000 non-null   int64\n",
      "dtypes: int64(1)\n",
      "memory usage: 15.6 KB\n"
     ]
    }
   ],
   "source": [
    "df['reviews'].info()"
   ]
  },
  {
   "cell_type": "code",
   "execution_count": 51,
   "metadata": {
    "colab": {
     "base_uri": "https://localhost:8080/",
     "height": 597
    },
    "id": "-2dvmxggmePF",
    "outputId": "a2ec053e-e1bd-4ede-8219-047bbbd28084"
   },
   "outputs": [
    {
     "data": {
      "text/html": [
       "<div>\n",
       "<style scoped>\n",
       "    .dataframe tbody tr th:only-of-type {\n",
       "        vertical-align: middle;\n",
       "    }\n",
       "\n",
       "    .dataframe tbody tr th {\n",
       "        vertical-align: top;\n",
       "    }\n",
       "\n",
       "    .dataframe thead th {\n",
       "        text-align: right;\n",
       "    }\n",
       "</style>\n",
       "<table border=\"1\" class=\"dataframe\">\n",
       "  <thead>\n",
       "    <tr style=\"text-align: right;\">\n",
       "      <th></th>\n",
       "      <th>name</th>\n",
       "      <th>packing</th>\n",
       "      <th>sales</th>\n",
       "      <th>reviews</th>\n",
       "      <th>price</th>\n",
       "      <th>store_name</th>\n",
       "      <th>name_vector</th>\n",
       "    </tr>\n",
       "  </thead>\n",
       "  <tbody>\n",
       "    <tr>\n",
       "      <th>147</th>\n",
       "      <td>MARUSAN - MARUSAN - Organic Soy Milk 1000ml  (...</td>\n",
       "      <td>1000ml X 6</td>\n",
       "      <td>200</td>\n",
       "      <td>0</td>\n",
       "      <td>$ 130.00</td>\n",
       "      <td>HomeGoods HK</td>\n",
       "      <td>NaN</td>\n",
       "    </tr>\n",
       "    <tr>\n",
       "      <th>164</th>\n",
       "      <td>MILK - 伊美 特級低脂牛奶Emmi Swiss Premium UHT Milk (藍...</td>\n",
       "      <td></td>\n",
       "      <td>200</td>\n",
       "      <td>0</td>\n",
       "      <td>$ 369.00</td>\n",
       "      <td>Lets Bazaar Company Limited</td>\n",
       "      <td>NaN</td>\n",
       "    </tr>\n",
       "    <tr>\n",
       "      <th>171</th>\n",
       "      <td>Hanyinhong - Korea Blackbean Milk (Case) 180ml...</td>\n",
       "      <td></td>\n",
       "      <td>80</td>\n",
       "      <td>0</td>\n",
       "      <td>$ 165.00</td>\n",
       "      <td>HanYinHong   Korea Imported Food Official Flag...</td>\n",
       "      <td>NaN</td>\n",
       "    </tr>\n",
       "    <tr>\n",
       "      <th>172</th>\n",
       "      <td>Hokkaido Dairy Products - Japan Kirishima foot...</td>\n",
       "      <td></td>\n",
       "      <td>300</td>\n",
       "      <td>0</td>\n",
       "      <td>$ 36.00</td>\n",
       "      <td>Fullness Mall</td>\n",
       "      <td>NaN</td>\n",
       "    </tr>\n",
       "    <tr>\n",
       "      <th>182</th>\n",
       "      <td>Goodmate - Oat Milk - Original 1000ml【6 pcs】</td>\n",
       "      <td>1000ml x6</td>\n",
       "      <td>40</td>\n",
       "      <td>0</td>\n",
       "      <td>$ 198.00</td>\n",
       "      <td>AbouThai SuperMarket</td>\n",
       "      <td>NaN</td>\n",
       "    </tr>\n",
       "    <tr>\n",
       "      <th>...</th>\n",
       "      <td>...</td>\n",
       "      <td>...</td>\n",
       "      <td>...</td>\n",
       "      <td>...</td>\n",
       "      <td>...</td>\n",
       "      <td>...</td>\n",
       "      <td>...</td>\n",
       "    </tr>\n",
       "    <tr>\n",
       "      <th>961</th>\n",
       "      <td>MARUSAN - Premium Pure Soy Milk (200ml) x 24 p...</td>\n",
       "      <td>24p (4901033643713)</td>\n",
       "      <td>0</td>\n",
       "      <td>0</td>\n",
       "      <td>$ 248.80</td>\n",
       "      <td>Aplex Capital Holdings Limited</td>\n",
       "      <td>NaN</td>\n",
       "    </tr>\n",
       "    <tr>\n",
       "      <th>962</th>\n",
       "      <td>Emmi - EMMI SWISS PREMIUM SEMI-SKIMMED MILK 1 ...</td>\n",
       "      <td></td>\n",
       "      <td>0</td>\n",
       "      <td>0</td>\n",
       "      <td>$ 368.00</td>\n",
       "      <td>Ascend (HK) Company Limited</td>\n",
       "      <td>NaN</td>\n",
       "    </tr>\n",
       "    <tr>\n",
       "      <th>963</th>\n",
       "      <td>CRYSPEAU - Milk</td>\n",
       "      <td>70ml</td>\n",
       "      <td>0</td>\n",
       "      <td>0</td>\n",
       "      <td>$ 281.60</td>\n",
       "      <td>ANDS BEAUTY STORE</td>\n",
       "      <td>NaN</td>\n",
       "    </tr>\n",
       "    <tr>\n",
       "      <th>964</th>\n",
       "      <td>CELCURE - Milk</td>\n",
       "      <td>70ml</td>\n",
       "      <td>0</td>\n",
       "      <td>0</td>\n",
       "      <td>$ 396.00</td>\n",
       "      <td>ANDS BEAUTY STORE</td>\n",
       "      <td>NaN</td>\n",
       "    </tr>\n",
       "    <tr>\n",
       "      <th>965</th>\n",
       "      <td>GRACE PROGRAM - Milk</td>\n",
       "      <td>70ml</td>\n",
       "      <td>0</td>\n",
       "      <td>0</td>\n",
       "      <td>$ 484.00</td>\n",
       "      <td>ANDS BEAUTY STORE</td>\n",
       "      <td>NaN</td>\n",
       "    </tr>\n",
       "  </tbody>\n",
       "</table>\n",
       "<p>492 rows × 7 columns</p>\n",
       "</div>"
      ],
      "text/plain": [
       "                                                  name              packing  \\\n",
       "147  MARUSAN - MARUSAN - Organic Soy Milk 1000ml  (...           1000ml X 6   \n",
       "164  MILK - 伊美 特級低脂牛奶Emmi Swiss Premium UHT Milk (藍...                        \n",
       "171  Hanyinhong - Korea Blackbean Milk (Case) 180ml...                        \n",
       "172  Hokkaido Dairy Products - Japan Kirishima foot...                        \n",
       "182       Goodmate - Oat Milk - Original 1000ml【6 pcs】            1000ml x6   \n",
       "..                                                 ...                  ...   \n",
       "961  MARUSAN - Premium Pure Soy Milk (200ml) x 24 p...  24p (4901033643713)   \n",
       "962  Emmi - EMMI SWISS PREMIUM SEMI-SKIMMED MILK 1 ...                        \n",
       "963                                    CRYSPEAU - Milk                 70ml   \n",
       "964                                     CELCURE - Milk                 70ml   \n",
       "965                               GRACE PROGRAM - Milk                 70ml   \n",
       "\n",
       "     sales  reviews     price  \\\n",
       "147    200        0  $ 130.00   \n",
       "164    200        0  $ 369.00   \n",
       "171     80        0  $ 165.00   \n",
       "172    300        0   $ 36.00   \n",
       "182     40        0  $ 198.00   \n",
       "..     ...      ...       ...   \n",
       "961      0        0  $ 248.80   \n",
       "962      0        0  $ 368.00   \n",
       "963      0        0  $ 281.60   \n",
       "964      0        0  $ 396.00   \n",
       "965      0        0  $ 484.00   \n",
       "\n",
       "                                            store_name name_vector  \n",
       "147                                       HomeGoods HK         NaN  \n",
       "164                        Lets Bazaar Company Limited         NaN  \n",
       "171  HanYinHong   Korea Imported Food Official Flag...         NaN  \n",
       "172                                      Fullness Mall         NaN  \n",
       "182                               AbouThai SuperMarket         NaN  \n",
       "..                                                 ...         ...  \n",
       "961                     Aplex Capital Holdings Limited         NaN  \n",
       "962                        Ascend (HK) Company Limited         NaN  \n",
       "963                                  ANDS BEAUTY STORE         NaN  \n",
       "964                                  ANDS BEAUTY STORE         NaN  \n",
       "965                                  ANDS BEAUTY STORE         NaN  \n",
       "\n",
       "[492 rows x 7 columns]"
      ]
     },
     "execution_count": 51,
     "metadata": {},
     "output_type": "execute_result"
    }
   ],
   "source": [
    "df[df['reviews'] == 0]"
   ]
  },
  {
   "cell_type": "markdown",
   "metadata": {
    "id": "t20uzp6HlssV"
   },
   "source": [
    "### price"
   ]
  },
  {
   "cell_type": "code",
   "execution_count": 52,
   "metadata": {
    "id": "ZqfRuZt1luMW"
   },
   "outputs": [],
   "source": [
    "df['price'] = df['price'].str.strip()\n",
    "df['price'] = df['price'].str.lstrip('$ ')"
   ]
  },
  {
   "cell_type": "code",
   "execution_count": 53,
   "metadata": {
    "id": "ysn0wdX3l3yl"
   },
   "outputs": [],
   "source": [
    "df['price'] = df['price'].astype(float)"
   ]
  },
  {
   "cell_type": "code",
   "execution_count": 54,
   "metadata": {
    "colab": {
     "base_uri": "https://localhost:8080/"
    },
    "id": "rAVS_ZMumBOV",
    "outputId": "ef9a5ef4-6ecc-4f89-f282-792b15846e93"
   },
   "outputs": [
    {
     "name": "stdout",
     "output_type": "stream",
     "text": [
      "<class 'pandas.core.series.Series'>\n",
      "Int64Index: 1000 entries, 0 to 1000\n",
      "Series name: price\n",
      "Non-Null Count  Dtype  \n",
      "--------------  -----  \n",
      "1000 non-null   float64\n",
      "dtypes: float64(1)\n",
      "memory usage: 15.6 KB\n"
     ]
    }
   ],
   "source": [
    "df['price'].info()"
   ]
  },
  {
   "cell_type": "markdown",
   "metadata": {
    "id": "_roA50lMlkvn"
   },
   "source": [
    "### store_name"
   ]
  },
  {
   "cell_type": "code",
   "execution_count": 55,
   "metadata": {
    "id": "Ff2GTXzWloVV"
   },
   "outputs": [],
   "source": [
    "df['store_name'] = df['store_name'].str.strip()"
   ]
  },
  {
   "cell_type": "markdown",
   "metadata": {
    "id": "RoB69g9xf1gE"
   },
   "source": [
    "## Feature Construction"
   ]
  },
  {
   "cell_type": "markdown",
   "metadata": {
    "id": "VQggeDA-n4Av"
   },
   "source": [
    "### Boolean features"
   ]
  },
  {
   "cell_type": "markdown",
   "metadata": {
    "id": "eAvQv1sRgXFV"
   },
   "source": [
    "#### Solid"
   ]
  },
  {
   "cell_type": "code",
   "execution_count": 56,
   "metadata": {
    "colab": {
     "base_uri": "https://localhost:8080/",
     "height": 424
    },
    "id": "mmAIbu4RmHvd",
    "outputId": "292077b0-239b-4e12-dbdd-5d80d89108be"
   },
   "outputs": [
    {
     "data": {
      "text/html": [
       "<div>\n",
       "<style scoped>\n",
       "    .dataframe tbody tr th:only-of-type {\n",
       "        vertical-align: middle;\n",
       "    }\n",
       "\n",
       "    .dataframe tbody tr th {\n",
       "        vertical-align: top;\n",
       "    }\n",
       "\n",
       "    .dataframe thead th {\n",
       "        text-align: right;\n",
       "    }\n",
       "</style>\n",
       "<table border=\"1\" class=\"dataframe\">\n",
       "  <thead>\n",
       "    <tr style=\"text-align: right;\">\n",
       "      <th></th>\n",
       "      <th>name</th>\n",
       "      <th>packing</th>\n",
       "      <th>sales</th>\n",
       "      <th>reviews</th>\n",
       "      <th>price</th>\n",
       "      <th>store_name</th>\n",
       "      <th>name_vector</th>\n",
       "    </tr>\n",
       "  </thead>\n",
       "  <tbody>\n",
       "    <tr>\n",
       "      <th>15</th>\n",
       "      <td>北海道 - Specially Select 3.6 Milk[Twin pack]</td>\n",
       "      <td>1kg x 2</td>\n",
       "      <td>60000</td>\n",
       "      <td>852</td>\n",
       "      <td>57.8</td>\n",
       "      <td>THE MARKET</td>\n",
       "      <td>NaN</td>\n",
       "    </tr>\n",
       "    <tr>\n",
       "      <th>221</th>\n",
       "      <td>L.I.F.E. - [NEW] Multi-Vitamin Collagen Milksh...</td>\n",
       "      <td>420g</td>\n",
       "      <td>100</td>\n",
       "      <td>2</td>\n",
       "      <td>98.0</td>\n",
       "      <td>LIFE Organic Nutrition and Superfoods</td>\n",
       "      <td>NaN</td>\n",
       "    </tr>\n",
       "    <tr>\n",
       "      <th>230</th>\n",
       "      <td>Horizon organic - Dry Whole Milk Tin Vitamin A...</td>\n",
       "      <td>870g</td>\n",
       "      <td>100</td>\n",
       "      <td>2</td>\n",
       "      <td>168.0</td>\n",
       "      <td>YOU and ME Shopping Mall Limited</td>\n",
       "      <td>NaN</td>\n",
       "    </tr>\n",
       "    <tr>\n",
       "      <th>234</th>\n",
       "      <td>L.I.F.E. - Organic Coconut Milk Powder #keto #...</td>\n",
       "      <td>300g</td>\n",
       "      <td>100</td>\n",
       "      <td>3</td>\n",
       "      <td>69.8</td>\n",
       "      <td>LIFE Organic Nutrition and Superfoods</td>\n",
       "      <td>NaN</td>\n",
       "    </tr>\n",
       "    <tr>\n",
       "      <th>238</th>\n",
       "      <td>DEVONDALE - Instant Skim Milk Powder 1kg (Para...</td>\n",
       "      <td>1kg</td>\n",
       "      <td>600</td>\n",
       "      <td>18</td>\n",
       "      <td>95.0</td>\n",
       "      <td>YOU and ME Shopping Mall Limited</td>\n",
       "      <td>NaN</td>\n",
       "    </tr>\n",
       "    <tr>\n",
       "      <th>...</th>\n",
       "      <td>...</td>\n",
       "      <td>...</td>\n",
       "      <td>...</td>\n",
       "      <td>...</td>\n",
       "      <td>...</td>\n",
       "      <td>...</td>\n",
       "      <td>...</td>\n",
       "    </tr>\n",
       "    <tr>\n",
       "      <th>976</th>\n",
       "      <td>OPTIFAST - OPTIFAST® weightloss milkshake (Cho...</td>\n",
       "      <td>12 x 53g</td>\n",
       "      <td>7000</td>\n",
       "      <td>76</td>\n",
       "      <td>360.0</td>\n",
       "      <td>Nestle Health Science Flagship Store</td>\n",
       "      <td>NaN</td>\n",
       "    </tr>\n",
       "    <tr>\n",
       "      <th>986</th>\n",
       "      <td>Vita - Vita Chocolate Milk Beverage 946ML</td>\n",
       "      <td>946g</td>\n",
       "      <td>2000</td>\n",
       "      <td>9</td>\n",
       "      <td>22.9</td>\n",
       "      <td>VITASOY / VITA</td>\n",
       "      <td>NaN</td>\n",
       "    </tr>\n",
       "    <tr>\n",
       "      <th>992</th>\n",
       "      <td>Emborg - ( 4 packs Value Set) American Burger ...</td>\n",
       "      <td>200gｘ４</td>\n",
       "      <td>1000</td>\n",
       "      <td>27</td>\n",
       "      <td>120.0</td>\n",
       "      <td>Classic Deli</td>\n",
       "      <td>NaN</td>\n",
       "    </tr>\n",
       "    <tr>\n",
       "      <th>993</th>\n",
       "      <td>Mead Johnson - [Official Authentic] Enfa A+ Ne...</td>\n",
       "      <td>900g</td>\n",
       "      <td>2000</td>\n",
       "      <td>14</td>\n",
       "      <td>285.0</td>\n",
       "      <td>Mead Johnson Nutrition Official Store</td>\n",
       "      <td>NaN</td>\n",
       "    </tr>\n",
       "    <tr>\n",
       "      <th>995</th>\n",
       "      <td>BIOSTIME - HMO  SN-2 Growing-Up Formula (HMO M...</td>\n",
       "      <td>800g</td>\n",
       "      <td>2000</td>\n",
       "      <td>9</td>\n",
       "      <td>89.0</td>\n",
       "      <td>H&amp;H Baby</td>\n",
       "      <td>NaN</td>\n",
       "    </tr>\n",
       "  </tbody>\n",
       "</table>\n",
       "<p>68 rows × 7 columns</p>\n",
       "</div>"
      ],
      "text/plain": [
       "                                                  name   packing  sales  \\\n",
       "15          北海道 - Specially Select 3.6 Milk[Twin pack]   1kg x 2  60000   \n",
       "221  L.I.F.E. - [NEW] Multi-Vitamin Collagen Milksh...      420g    100   \n",
       "230  Horizon organic - Dry Whole Milk Tin Vitamin A...      870g    100   \n",
       "234  L.I.F.E. - Organic Coconut Milk Powder #keto #...      300g    100   \n",
       "238  DEVONDALE - Instant Skim Milk Powder 1kg (Para...       1kg    600   \n",
       "..                                                 ...       ...    ...   \n",
       "976  OPTIFAST - OPTIFAST® weightloss milkshake (Cho...  12 x 53g   7000   \n",
       "986          Vita - Vita Chocolate Milk Beverage 946ML      946g   2000   \n",
       "992  Emborg - ( 4 packs Value Set) American Burger ...    200gｘ４   1000   \n",
       "993  Mead Johnson - [Official Authentic] Enfa A+ Ne...      900g   2000   \n",
       "995  BIOSTIME - HMO  SN-2 Growing-Up Formula (HMO M...      800g   2000   \n",
       "\n",
       "     reviews  price                             store_name name_vector  \n",
       "15       852   57.8                             THE MARKET         NaN  \n",
       "221        2   98.0  LIFE Organic Nutrition and Superfoods         NaN  \n",
       "230        2  168.0       YOU and ME Shopping Mall Limited         NaN  \n",
       "234        3   69.8  LIFE Organic Nutrition and Superfoods         NaN  \n",
       "238       18   95.0       YOU and ME Shopping Mall Limited         NaN  \n",
       "..       ...    ...                                    ...         ...  \n",
       "976       76  360.0   Nestle Health Science Flagship Store         NaN  \n",
       "986        9   22.9                         VITASOY / VITA         NaN  \n",
       "992       27  120.0                           Classic Deli         NaN  \n",
       "993       14  285.0  Mead Johnson Nutrition Official Store         NaN  \n",
       "995        9   89.0                               H&H Baby         NaN  \n",
       "\n",
       "[68 rows x 7 columns]"
      ]
     },
     "execution_count": 56,
     "metadata": {},
     "output_type": "execute_result"
    }
   ],
   "source": [
    "df[df['packing'].str.count('g') > 0]"
   ]
  },
  {
   "cell_type": "code",
   "execution_count": 57,
   "metadata": {
    "id": "kQk_6u4zf1At"
   },
   "outputs": [],
   "source": [
    "df['solid'] = df['packing'].str.count('g')\n",
    "df['solid'] = df['solid'].clip(0, 1)"
   ]
  },
  {
   "cell_type": "code",
   "execution_count": 58,
   "metadata": {
    "colab": {
     "base_uri": "https://localhost:8080/",
     "height": 563
    },
    "id": "T9FYyodTmTkm",
    "outputId": "c52f3ad2-7a57-41d9-f5ad-518dbbbe0d63"
   },
   "outputs": [
    {
     "data": {
      "text/html": [
       "<div>\n",
       "<style scoped>\n",
       "    .dataframe tbody tr th:only-of-type {\n",
       "        vertical-align: middle;\n",
       "    }\n",
       "\n",
       "    .dataframe tbody tr th {\n",
       "        vertical-align: top;\n",
       "    }\n",
       "\n",
       "    .dataframe thead th {\n",
       "        text-align: right;\n",
       "    }\n",
       "</style>\n",
       "<table border=\"1\" class=\"dataframe\">\n",
       "  <thead>\n",
       "    <tr style=\"text-align: right;\">\n",
       "      <th></th>\n",
       "      <th>name</th>\n",
       "      <th>packing</th>\n",
       "      <th>sales</th>\n",
       "      <th>reviews</th>\n",
       "      <th>price</th>\n",
       "      <th>store_name</th>\n",
       "      <th>name_vector</th>\n",
       "      <th>solid</th>\n",
       "    </tr>\n",
       "  </thead>\n",
       "  <tbody>\n",
       "    <tr>\n",
       "      <th>15</th>\n",
       "      <td>北海道 - Specially Select 3.6 Milk[Twin pack]</td>\n",
       "      <td>1kg x 2</td>\n",
       "      <td>60000</td>\n",
       "      <td>852</td>\n",
       "      <td>57.8</td>\n",
       "      <td>THE MARKET</td>\n",
       "      <td>NaN</td>\n",
       "      <td>1</td>\n",
       "    </tr>\n",
       "    <tr>\n",
       "      <th>221</th>\n",
       "      <td>L.I.F.E. - [NEW] Multi-Vitamin Collagen Milksh...</td>\n",
       "      <td>420g</td>\n",
       "      <td>100</td>\n",
       "      <td>2</td>\n",
       "      <td>98.0</td>\n",
       "      <td>LIFE Organic Nutrition and Superfoods</td>\n",
       "      <td>NaN</td>\n",
       "      <td>1</td>\n",
       "    </tr>\n",
       "    <tr>\n",
       "      <th>230</th>\n",
       "      <td>Horizon organic - Dry Whole Milk Tin Vitamin A...</td>\n",
       "      <td>870g</td>\n",
       "      <td>100</td>\n",
       "      <td>2</td>\n",
       "      <td>168.0</td>\n",
       "      <td>YOU and ME Shopping Mall Limited</td>\n",
       "      <td>NaN</td>\n",
       "      <td>1</td>\n",
       "    </tr>\n",
       "    <tr>\n",
       "      <th>234</th>\n",
       "      <td>L.I.F.E. - Organic Coconut Milk Powder #keto #...</td>\n",
       "      <td>300g</td>\n",
       "      <td>100</td>\n",
       "      <td>3</td>\n",
       "      <td>69.8</td>\n",
       "      <td>LIFE Organic Nutrition and Superfoods</td>\n",
       "      <td>NaN</td>\n",
       "      <td>1</td>\n",
       "    </tr>\n",
       "    <tr>\n",
       "      <th>238</th>\n",
       "      <td>DEVONDALE - Instant Skim Milk Powder 1kg (Para...</td>\n",
       "      <td>1kg</td>\n",
       "      <td>600</td>\n",
       "      <td>18</td>\n",
       "      <td>95.0</td>\n",
       "      <td>YOU and ME Shopping Mall Limited</td>\n",
       "      <td>NaN</td>\n",
       "      <td>1</td>\n",
       "    </tr>\n",
       "    <tr>\n",
       "      <th>...</th>\n",
       "      <td>...</td>\n",
       "      <td>...</td>\n",
       "      <td>...</td>\n",
       "      <td>...</td>\n",
       "      <td>...</td>\n",
       "      <td>...</td>\n",
       "      <td>...</td>\n",
       "      <td>...</td>\n",
       "    </tr>\n",
       "    <tr>\n",
       "      <th>976</th>\n",
       "      <td>OPTIFAST - OPTIFAST® weightloss milkshake (Cho...</td>\n",
       "      <td>12 x 53g</td>\n",
       "      <td>7000</td>\n",
       "      <td>76</td>\n",
       "      <td>360.0</td>\n",
       "      <td>Nestle Health Science Flagship Store</td>\n",
       "      <td>NaN</td>\n",
       "      <td>1</td>\n",
       "    </tr>\n",
       "    <tr>\n",
       "      <th>986</th>\n",
       "      <td>Vita - Vita Chocolate Milk Beverage 946ML</td>\n",
       "      <td>946g</td>\n",
       "      <td>2000</td>\n",
       "      <td>9</td>\n",
       "      <td>22.9</td>\n",
       "      <td>VITASOY / VITA</td>\n",
       "      <td>NaN</td>\n",
       "      <td>1</td>\n",
       "    </tr>\n",
       "    <tr>\n",
       "      <th>992</th>\n",
       "      <td>Emborg - ( 4 packs Value Set) American Burger ...</td>\n",
       "      <td>200gｘ４</td>\n",
       "      <td>1000</td>\n",
       "      <td>27</td>\n",
       "      <td>120.0</td>\n",
       "      <td>Classic Deli</td>\n",
       "      <td>NaN</td>\n",
       "      <td>1</td>\n",
       "    </tr>\n",
       "    <tr>\n",
       "      <th>993</th>\n",
       "      <td>Mead Johnson - [Official Authentic] Enfa A+ Ne...</td>\n",
       "      <td>900g</td>\n",
       "      <td>2000</td>\n",
       "      <td>14</td>\n",
       "      <td>285.0</td>\n",
       "      <td>Mead Johnson Nutrition Official Store</td>\n",
       "      <td>NaN</td>\n",
       "      <td>1</td>\n",
       "    </tr>\n",
       "    <tr>\n",
       "      <th>995</th>\n",
       "      <td>BIOSTIME - HMO  SN-2 Growing-Up Formula (HMO M...</td>\n",
       "      <td>800g</td>\n",
       "      <td>2000</td>\n",
       "      <td>9</td>\n",
       "      <td>89.0</td>\n",
       "      <td>H&amp;H Baby</td>\n",
       "      <td>NaN</td>\n",
       "      <td>1</td>\n",
       "    </tr>\n",
       "  </tbody>\n",
       "</table>\n",
       "<p>68 rows × 8 columns</p>\n",
       "</div>"
      ],
      "text/plain": [
       "                                                  name   packing  sales  \\\n",
       "15          北海道 - Specially Select 3.6 Milk[Twin pack]   1kg x 2  60000   \n",
       "221  L.I.F.E. - [NEW] Multi-Vitamin Collagen Milksh...      420g    100   \n",
       "230  Horizon organic - Dry Whole Milk Tin Vitamin A...      870g    100   \n",
       "234  L.I.F.E. - Organic Coconut Milk Powder #keto #...      300g    100   \n",
       "238  DEVONDALE - Instant Skim Milk Powder 1kg (Para...       1kg    600   \n",
       "..                                                 ...       ...    ...   \n",
       "976  OPTIFAST - OPTIFAST® weightloss milkshake (Cho...  12 x 53g   7000   \n",
       "986          Vita - Vita Chocolate Milk Beverage 946ML      946g   2000   \n",
       "992  Emborg - ( 4 packs Value Set) American Burger ...    200gｘ４   1000   \n",
       "993  Mead Johnson - [Official Authentic] Enfa A+ Ne...      900g   2000   \n",
       "995  BIOSTIME - HMO  SN-2 Growing-Up Formula (HMO M...      800g   2000   \n",
       "\n",
       "     reviews  price                             store_name name_vector  solid  \n",
       "15       852   57.8                             THE MARKET         NaN      1  \n",
       "221        2   98.0  LIFE Organic Nutrition and Superfoods         NaN      1  \n",
       "230        2  168.0       YOU and ME Shopping Mall Limited         NaN      1  \n",
       "234        3   69.8  LIFE Organic Nutrition and Superfoods         NaN      1  \n",
       "238       18   95.0       YOU and ME Shopping Mall Limited         NaN      1  \n",
       "..       ...    ...                                    ...         ...    ...  \n",
       "976       76  360.0   Nestle Health Science Flagship Store         NaN      1  \n",
       "986        9   22.9                         VITASOY / VITA         NaN      1  \n",
       "992       27  120.0                           Classic Deli         NaN      1  \n",
       "993       14  285.0  Mead Johnson Nutrition Official Store         NaN      1  \n",
       "995        9   89.0                               H&H Baby         NaN      1  \n",
       "\n",
       "[68 rows x 8 columns]"
      ]
     },
     "execution_count": 58,
     "metadata": {},
     "output_type": "execute_result"
    }
   ],
   "source": [
    "df[df['solid'] == 1]"
   ]
  },
  {
   "cell_type": "markdown",
   "metadata": {
    "id": "aLWCoyKEmqL2"
   },
   "source": [
    "#### Liquid"
   ]
  },
  {
   "cell_type": "code",
   "execution_count": 59,
   "metadata": {
    "id": "0J5KB6PemtD1"
   },
   "outputs": [],
   "source": [
    "df['liquid'] = df['packing'].str.count('ml') + df['packing'].str.count('L')\n",
    "df['liquid'] = df['liquid'].clip(0, 1)"
   ]
  },
  {
   "cell_type": "code",
   "execution_count": 60,
   "metadata": {
    "colab": {
     "base_uri": "https://localhost:8080/",
     "height": 597
    },
    "id": "e2AQM3hCm8au",
    "outputId": "8fbf7127-3aa2-4f2f-fac4-a2aecf7ef511"
   },
   "outputs": [
    {
     "data": {
      "text/html": [
       "<div>\n",
       "<style scoped>\n",
       "    .dataframe tbody tr th:only-of-type {\n",
       "        vertical-align: middle;\n",
       "    }\n",
       "\n",
       "    .dataframe tbody tr th {\n",
       "        vertical-align: top;\n",
       "    }\n",
       "\n",
       "    .dataframe thead th {\n",
       "        text-align: right;\n",
       "    }\n",
       "</style>\n",
       "<table border=\"1\" class=\"dataframe\">\n",
       "  <thead>\n",
       "    <tr style=\"text-align: right;\">\n",
       "      <th></th>\n",
       "      <th>name</th>\n",
       "      <th>packing</th>\n",
       "      <th>sales</th>\n",
       "      <th>reviews</th>\n",
       "      <th>price</th>\n",
       "      <th>store_name</th>\n",
       "      <th>name_vector</th>\n",
       "      <th>solid</th>\n",
       "      <th>liquid</th>\n",
       "    </tr>\n",
       "  </thead>\n",
       "  <tbody>\n",
       "    <tr>\n",
       "      <th>4</th>\n",
       "      <td>Fred &amp; Chloe - Fred &amp; Chloe Full Cream Milk 1L...</td>\n",
       "      <td></td>\n",
       "      <td>5000</td>\n",
       "      <td>60</td>\n",
       "      <td>172.0</td>\n",
       "      <td>BABYNIKO</td>\n",
       "      <td>NaN</td>\n",
       "      <td>0</td>\n",
       "      <td>0</td>\n",
       "    </tr>\n",
       "    <tr>\n",
       "      <th>13</th>\n",
       "      <td>Lisolla UHT Milk - Full Cream 3.5% UHT Milk 1 ...</td>\n",
       "      <td>BBD：31/07/2022</td>\n",
       "      <td>5000</td>\n",
       "      <td>142</td>\n",
       "      <td>82.8</td>\n",
       "      <td>Panda Groceries</td>\n",
       "      <td>NaN</td>\n",
       "      <td>0</td>\n",
       "      <td>0</td>\n",
       "    </tr>\n",
       "    <tr>\n",
       "      <th>14</th>\n",
       "      <td>DEVONDALE - 澳洲德運全脂保鮮奶 Devondale UHT Full Cream...</td>\n",
       "      <td></td>\n",
       "      <td>900</td>\n",
       "      <td>1</td>\n",
       "      <td>46.0</td>\n",
       "      <td>Lets Bazaar Company Limited</td>\n",
       "      <td>NaN</td>\n",
       "      <td>0</td>\n",
       "      <td>0</td>\n",
       "    </tr>\n",
       "    <tr>\n",
       "      <th>15</th>\n",
       "      <td>北海道 - Specially Select 3.6 Milk[Twin pack]</td>\n",
       "      <td>1kg x 2</td>\n",
       "      <td>60000</td>\n",
       "      <td>852</td>\n",
       "      <td>57.8</td>\n",
       "      <td>THE MARKET</td>\n",
       "      <td>NaN</td>\n",
       "      <td>1</td>\n",
       "      <td>0</td>\n",
       "    </tr>\n",
       "    <tr>\n",
       "      <th>16</th>\n",
       "      <td>Fred &amp; Chloe - Fred &amp; Chloe Full Cream Milk 1L...</td>\n",
       "      <td></td>\n",
       "      <td>5000</td>\n",
       "      <td>67</td>\n",
       "      <td>38.0</td>\n",
       "      <td>BABYNIKO</td>\n",
       "      <td>NaN</td>\n",
       "      <td>0</td>\n",
       "      <td>0</td>\n",
       "    </tr>\n",
       "    <tr>\n",
       "      <th>...</th>\n",
       "      <td>...</td>\n",
       "      <td>...</td>\n",
       "      <td>...</td>\n",
       "      <td>...</td>\n",
       "      <td>...</td>\n",
       "      <td>...</td>\n",
       "      <td>...</td>\n",
       "      <td>...</td>\n",
       "      <td>...</td>\n",
       "    </tr>\n",
       "    <tr>\n",
       "      <th>992</th>\n",
       "      <td>Emborg - ( 4 packs Value Set) American Burger ...</td>\n",
       "      <td>200gｘ４</td>\n",
       "      <td>1000</td>\n",
       "      <td>27</td>\n",
       "      <td>120.0</td>\n",
       "      <td>Classic Deli</td>\n",
       "      <td>NaN</td>\n",
       "      <td>1</td>\n",
       "      <td>0</td>\n",
       "    </tr>\n",
       "    <tr>\n",
       "      <th>993</th>\n",
       "      <td>Mead Johnson - [Official Authentic] Enfa A+ Ne...</td>\n",
       "      <td>900g</td>\n",
       "      <td>2000</td>\n",
       "      <td>14</td>\n",
       "      <td>285.0</td>\n",
       "      <td>Mead Johnson Nutrition Official Store</td>\n",
       "      <td>NaN</td>\n",
       "      <td>1</td>\n",
       "      <td>0</td>\n",
       "    </tr>\n",
       "    <tr>\n",
       "      <th>995</th>\n",
       "      <td>BIOSTIME - HMO  SN-2 Growing-Up Formula (HMO M...</td>\n",
       "      <td>800g</td>\n",
       "      <td>2000</td>\n",
       "      <td>9</td>\n",
       "      <td>89.0</td>\n",
       "      <td>H&amp;H Baby</td>\n",
       "      <td>NaN</td>\n",
       "      <td>1</td>\n",
       "      <td>0</td>\n",
       "    </tr>\n",
       "    <tr>\n",
       "      <th>998</th>\n",
       "      <td>NESTLÉ CARNATION - Omega High Calcium Milk Pow...</td>\n",
       "      <td>1700G</td>\n",
       "      <td>300</td>\n",
       "      <td>6</td>\n",
       "      <td>68.0</td>\n",
       "      <td>Beauty Box</td>\n",
       "      <td>NaN</td>\n",
       "      <td>0</td>\n",
       "      <td>0</td>\n",
       "    </tr>\n",
       "    <tr>\n",
       "      <th>999</th>\n",
       "      <td>Royal Banquet - 滋補糖水系列 - Milk Red Jujube with ...</td>\n",
       "      <td></td>\n",
       "      <td>900</td>\n",
       "      <td>16</td>\n",
       "      <td>35.0</td>\n",
       "      <td>The Food Source Limited</td>\n",
       "      <td>NaN</td>\n",
       "      <td>0</td>\n",
       "      <td>0</td>\n",
       "    </tr>\n",
       "  </tbody>\n",
       "</table>\n",
       "<p>463 rows × 9 columns</p>\n",
       "</div>"
      ],
      "text/plain": [
       "                                                  name         packing  sales  \\\n",
       "4    Fred & Chloe - Fred & Chloe Full Cream Milk 1L...                   5000   \n",
       "13   Lisolla UHT Milk - Full Cream 3.5% UHT Milk 1 ...  BBD：31/07/2022   5000   \n",
       "14   DEVONDALE - 澳洲德運全脂保鮮奶 Devondale UHT Full Cream...                    900   \n",
       "15          北海道 - Specially Select 3.6 Milk[Twin pack]         1kg x 2  60000   \n",
       "16   Fred & Chloe - Fred & Chloe Full Cream Milk 1L...                   5000   \n",
       "..                                                 ...             ...    ...   \n",
       "992  Emborg - ( 4 packs Value Set) American Burger ...          200gｘ４   1000   \n",
       "993  Mead Johnson - [Official Authentic] Enfa A+ Ne...            900g   2000   \n",
       "995  BIOSTIME - HMO  SN-2 Growing-Up Formula (HMO M...            800g   2000   \n",
       "998  NESTLÉ CARNATION - Omega High Calcium Milk Pow...           1700G    300   \n",
       "999  Royal Banquet - 滋補糖水系列 - Milk Red Jujube with ...                    900   \n",
       "\n",
       "     reviews  price                             store_name name_vector  solid  \\\n",
       "4         60  172.0                               BABYNIKO         NaN      0   \n",
       "13       142   82.8                        Panda Groceries         NaN      0   \n",
       "14         1   46.0            Lets Bazaar Company Limited         NaN      0   \n",
       "15       852   57.8                             THE MARKET         NaN      1   \n",
       "16        67   38.0                               BABYNIKO         NaN      0   \n",
       "..       ...    ...                                    ...         ...    ...   \n",
       "992       27  120.0                           Classic Deli         NaN      1   \n",
       "993       14  285.0  Mead Johnson Nutrition Official Store         NaN      1   \n",
       "995        9   89.0                               H&H Baby         NaN      1   \n",
       "998        6   68.0                             Beauty Box         NaN      0   \n",
       "999       16   35.0                The Food Source Limited         NaN      0   \n",
       "\n",
       "     liquid  \n",
       "4         0  \n",
       "13        0  \n",
       "14        0  \n",
       "15        0  \n",
       "16        0  \n",
       "..      ...  \n",
       "992       0  \n",
       "993       0  \n",
       "995       0  \n",
       "998       0  \n",
       "999       0  \n",
       "\n",
       "[463 rows x 9 columns]"
      ]
     },
     "execution_count": 60,
     "metadata": {},
     "output_type": "execute_result"
    }
   ],
   "source": [
    "df[df['liquid'] == 0]"
   ]
  },
  {
   "cell_type": "markdown",
   "metadata": {
    "id": "jsTDFfUVVCuJ"
   },
   "source": [
    "## Numeric features"
   ]
  },
  {
   "cell_type": "code",
   "execution_count": 61,
   "metadata": {
    "id": "zfJpt4RiVIVK"
   },
   "outputs": [],
   "source": [
    "df['sales_volume'] = df['sales'] * df['price']"
   ]
  },
  {
   "cell_type": "code",
   "execution_count": 62,
   "metadata": {
    "colab": {
     "base_uri": "https://localhost:8080/",
     "height": 328
    },
    "id": "NS_OqxQ5VbxG",
    "outputId": "851dc474-02f0-4ead-880f-935c13ae89aa"
   },
   "outputs": [
    {
     "data": {
      "text/html": [
       "<div>\n",
       "<style scoped>\n",
       "    .dataframe tbody tr th:only-of-type {\n",
       "        vertical-align: middle;\n",
       "    }\n",
       "\n",
       "    .dataframe tbody tr th {\n",
       "        vertical-align: top;\n",
       "    }\n",
       "\n",
       "    .dataframe thead th {\n",
       "        text-align: right;\n",
       "    }\n",
       "</style>\n",
       "<table border=\"1\" class=\"dataframe\">\n",
       "  <thead>\n",
       "    <tr style=\"text-align: right;\">\n",
       "      <th></th>\n",
       "      <th>name</th>\n",
       "      <th>packing</th>\n",
       "      <th>sales</th>\n",
       "      <th>reviews</th>\n",
       "      <th>price</th>\n",
       "      <th>store_name</th>\n",
       "      <th>name_vector</th>\n",
       "      <th>solid</th>\n",
       "      <th>liquid</th>\n",
       "      <th>sales_volume</th>\n",
       "    </tr>\n",
       "  </thead>\n",
       "  <tbody>\n",
       "    <tr>\n",
       "      <th>0</th>\n",
       "      <td>Pauls - Pure Milk</td>\n",
       "      <td>1L x 3</td>\n",
       "      <td>20000</td>\n",
       "      <td>141</td>\n",
       "      <td>47.9</td>\n",
       "      <td>Sims Trading Company Limited</td>\n",
       "      <td>(0, 640)\\t0.1545433521069657\\n  (0, 756)\\t0....</td>\n",
       "      <td>0</td>\n",
       "      <td>1</td>\n",
       "      <td>958000.0</td>\n",
       "    </tr>\n",
       "    <tr>\n",
       "      <th>1</th>\n",
       "      <td>北海道 - Specially Select 3.6 Milk[4pack]</td>\n",
       "      <td>1L x 4</td>\n",
       "      <td>100000</td>\n",
       "      <td>1294</td>\n",
       "      <td>127.6</td>\n",
       "      <td>THE MARKET</td>\n",
       "      <td>NaN</td>\n",
       "      <td>0</td>\n",
       "      <td>1</td>\n",
       "      <td>12760000.0</td>\n",
       "    </tr>\n",
       "    <tr>\n",
       "      <th>2</th>\n",
       "      <td>DEVONDALE - Full Cream Devondale Milk Australi...</td>\n",
       "      <td>10x1L</td>\n",
       "      <td>1000</td>\n",
       "      <td>9</td>\n",
       "      <td>168.0</td>\n",
       "      <td>Tenth Online Store</td>\n",
       "      <td>NaN</td>\n",
       "      <td>0</td>\n",
       "      <td>1</td>\n",
       "      <td>168000.0</td>\n",
       "    </tr>\n",
       "    <tr>\n",
       "      <th>3</th>\n",
       "      <td>Rakunoh Mother - Ohaso Milk</td>\n",
       "      <td>1000ml x 3</td>\n",
       "      <td>100000</td>\n",
       "      <td>910</td>\n",
       "      <td>117.0</td>\n",
       "      <td>THE MARKET</td>\n",
       "      <td>NaN</td>\n",
       "      <td>0</td>\n",
       "      <td>1</td>\n",
       "      <td>11700000.0</td>\n",
       "    </tr>\n",
       "    <tr>\n",
       "      <th>4</th>\n",
       "      <td>Fred &amp; Chloe - Fred &amp; Chloe Full Cream Milk 1L...</td>\n",
       "      <td></td>\n",
       "      <td>5000</td>\n",
       "      <td>60</td>\n",
       "      <td>172.0</td>\n",
       "      <td>BABYNIKO</td>\n",
       "      <td>NaN</td>\n",
       "      <td>0</td>\n",
       "      <td>0</td>\n",
       "      <td>860000.0</td>\n",
       "    </tr>\n",
       "  </tbody>\n",
       "</table>\n",
       "</div>"
      ],
      "text/plain": [
       "                                                name     packing   sales  \\\n",
       "0                                  Pauls - Pure Milk      1L x 3   20000   \n",
       "1             北海道 - Specially Select 3.6 Milk[4pack]      1L x 4  100000   \n",
       "2  DEVONDALE - Full Cream Devondale Milk Australi...       10x1L    1000   \n",
       "3                        Rakunoh Mother - Ohaso Milk  1000ml x 3  100000   \n",
       "4  Fred & Chloe - Fred & Chloe Full Cream Milk 1L...                5000   \n",
       "\n",
       "   reviews  price                    store_name  \\\n",
       "0      141   47.9  Sims Trading Company Limited   \n",
       "1     1294  127.6                    THE MARKET   \n",
       "2        9  168.0            Tenth Online Store   \n",
       "3      910  117.0                    THE MARKET   \n",
       "4       60  172.0                      BABYNIKO   \n",
       "\n",
       "                                         name_vector  solid  liquid  \\\n",
       "0    (0, 640)\\t0.1545433521069657\\n  (0, 756)\\t0....      0       1   \n",
       "1                                                NaN      0       1   \n",
       "2                                                NaN      0       1   \n",
       "3                                                NaN      0       1   \n",
       "4                                                NaN      0       0   \n",
       "\n",
       "   sales_volume  \n",
       "0      958000.0  \n",
       "1    12760000.0  \n",
       "2      168000.0  \n",
       "3    11700000.0  \n",
       "4      860000.0  "
      ]
     },
     "execution_count": 62,
     "metadata": {},
     "output_type": "execute_result"
    }
   ],
   "source": [
    "df.head()"
   ]
  },
  {
   "cell_type": "markdown",
   "metadata": {
    "id": "yqXXc8m5Q_AE"
   },
   "source": [
    "## Text features"
   ]
  },
  {
   "cell_type": "markdown",
   "metadata": {
    "id": "bBH-soDOIy91"
   },
   "source": [
    "### TF-IDF (term frequency-inverse document frequency)"
   ]
  },
  {
   "cell_type": "markdown",
   "metadata": {
    "id": "ifcA0hDfVsav"
   },
   "source": [
    "with `texthero`"
   ]
  },
  {
   "cell_type": "code",
   "execution_count": null,
   "metadata": {
    "id": "74cFHeyjTSv3"
   },
   "outputs": [],
   "source": [
    "!pip install texthero"
   ]
  },
  {
   "cell_type": "code",
   "execution_count": 68,
   "metadata": {
    "colab": {
     "base_uri": "https://localhost:8080/"
    },
    "id": "oC37tvQwTSq5",
    "outputId": "eb674f52-f304-4be9-940a-a86859dbf87b"
   },
   "outputs": [
    {
     "name": "stderr",
     "output_type": "stream",
     "text": [
      "[nltk_data] Downloading package stopwords to /Users/kenny/nltk_data...\n",
      "[nltk_data]   Unzipping corpora/stopwords.zip.\n",
      "DEPRECATION: Configuring installation scheme with distutils config files is deprecated and will no longer work in the near future. If you are using a Homebrew or Linuxbrew Python, please see discussion at https://github.com/Homebrew/homebrew-core/issues/76621\n"
     ]
    },
    {
     "name": "stdout",
     "output_type": "stream",
     "text": [
      "Collecting en_core_web_sm==2.3.1\n",
      "  Downloading https://github.com/explosion/spacy-models/releases/download/en_core_web_sm-2.3.1/en_core_web_sm-2.3.1.tar.gz (12.0 MB)\n",
      "  Preparing metadata (setup.py): started\n",
      "  Preparing metadata (setup.py): finished with status 'done'\n",
      "Requirement already satisfied: spacy<2.4.0,>=2.3.0 in /opt/homebrew/lib/python3.9/site-packages (from en_core_web_sm==2.3.1) (2.3.7)\n",
      "Requirement already satisfied: thinc<7.5.0,>=7.4.1 in /opt/homebrew/lib/python3.9/site-packages (from spacy<2.4.0,>=2.3.0->en_core_web_sm==2.3.1) (7.4.5)\n",
      "Requirement already satisfied: catalogue<1.1.0,>=0.0.7 in /opt/homebrew/lib/python3.9/site-packages (from spacy<2.4.0,>=2.3.0->en_core_web_sm==2.3.1) (1.0.0)\n",
      "Requirement already satisfied: requests<3.0.0,>=2.13.0 in /opt/homebrew/lib/python3.9/site-packages (from spacy<2.4.0,>=2.3.0->en_core_web_sm==2.3.1) (2.27.1)\n",
      "Requirement already satisfied: setuptools in /opt/homebrew/lib/python3.9/site-packages (from spacy<2.4.0,>=2.3.0->en_core_web_sm==2.3.1) (60.5.0)\n",
      "Requirement already satisfied: wasabi<1.1.0,>=0.4.0 in /opt/homebrew/lib/python3.9/site-packages (from spacy<2.4.0,>=2.3.0->en_core_web_sm==2.3.1) (0.9.0)\n",
      "Requirement already satisfied: murmurhash<1.1.0,>=0.28.0 in /opt/homebrew/lib/python3.9/site-packages (from spacy<2.4.0,>=2.3.0->en_core_web_sm==2.3.1) (1.0.6)\n",
      "Requirement already satisfied: cymem<2.1.0,>=2.0.2 in /opt/homebrew/lib/python3.9/site-packages (from spacy<2.4.0,>=2.3.0->en_core_web_sm==2.3.1) (2.0.6)\n",
      "Requirement already satisfied: blis<0.8.0,>=0.4.0 in /opt/homebrew/lib/python3.9/site-packages (from spacy<2.4.0,>=2.3.0->en_core_web_sm==2.3.1) (0.7.5)\n",
      "Requirement already satisfied: tqdm<5.0.0,>=4.38.0 in /opt/homebrew/lib/python3.9/site-packages (from spacy<2.4.0,>=2.3.0->en_core_web_sm==2.3.1) (4.62.3)\n",
      "Requirement already satisfied: srsly<1.1.0,>=1.0.2 in /opt/homebrew/lib/python3.9/site-packages (from spacy<2.4.0,>=2.3.0->en_core_web_sm==2.3.1) (1.0.5)\n",
      "Requirement already satisfied: plac<1.2.0,>=0.9.6 in /opt/homebrew/lib/python3.9/site-packages (from spacy<2.4.0,>=2.3.0->en_core_web_sm==2.3.1) (1.1.3)\n",
      "Requirement already satisfied: preshed<3.1.0,>=3.0.2 in /opt/homebrew/lib/python3.9/site-packages (from spacy<2.4.0,>=2.3.0->en_core_web_sm==2.3.1) (3.0.6)\n",
      "Requirement already satisfied: numpy>=1.15.0 in /opt/homebrew/lib/python3.9/site-packages (from spacy<2.4.0,>=2.3.0->en_core_web_sm==2.3.1) (1.22.2)\n",
      "Requirement already satisfied: certifi>=2017.4.17 in /opt/homebrew/lib/python3.9/site-packages (from requests<3.0.0,>=2.13.0->spacy<2.4.0,>=2.3.0->en_core_web_sm==2.3.1) (2021.10.8)\n",
      "Requirement already satisfied: charset-normalizer~=2.0.0 in /opt/homebrew/lib/python3.9/site-packages (from requests<3.0.0,>=2.13.0->spacy<2.4.0,>=2.3.0->en_core_web_sm==2.3.1) (2.0.11)\n",
      "Requirement already satisfied: idna<4,>=2.5 in /opt/homebrew/lib/python3.9/site-packages (from requests<3.0.0,>=2.13.0->spacy<2.4.0,>=2.3.0->en_core_web_sm==2.3.1) (3.3)\n",
      "Requirement already satisfied: urllib3<1.27,>=1.21.1 in /opt/homebrew/lib/python3.9/site-packages (from requests<3.0.0,>=2.13.0->spacy<2.4.0,>=2.3.0->en_core_web_sm==2.3.1) (1.26.8)\n",
      "Building wheels for collected packages: en-core-web-sm\n",
      "  Building wheel for en-core-web-sm (setup.py): started\n",
      "  Building wheel for en-core-web-sm (setup.py): finished with status 'done'\n",
      "  Created wheel for en-core-web-sm: filename=en_core_web_sm-2.3.1-py3-none-any.whl size=12047105 sha256=7a003baa61327cc7b55c141adef192ca61c01967b03b653cb96df7a5e4121154\n",
      "  Stored in directory: /Users/kenny/Library/Caches/pip/wheels/19/d6/1c/5484b95647df5d7afaf74abde458c66c1cd427e69e801fe826\n",
      "Successfully built en-core-web-sm\n",
      "Installing collected packages: en-core-web-sm\n",
      "Successfully installed en-core-web-sm-2.3.1\n",
      "\u001b[38;5;2m✔ Download and installation successful\u001b[0m\n",
      "You can now load the model via spacy.load('en_core_web_sm')\n"
     ]
    },
    {
     "name": "stderr",
     "output_type": "stream",
     "text": [
      "DEPRECATION: Configuring installation scheme with distutils config files is deprecated and will no longer work in the near future. If you are using a Homebrew or Linuxbrew Python, please see discussion at https://github.com/Homebrew/homebrew-core/issues/76621\n",
      "WARNING: You are using pip version 21.3.1; however, version 22.0.3 is available.\n",
      "You should consider upgrading via the '/opt/homebrew/opt/python@3.9/bin/python3.9 -m pip install --upgrade pip' command.\n"
     ]
    }
   ],
   "source": [
    "import texthero as hero"
   ]
  },
  {
   "cell_type": "markdown",
   "metadata": {
    "id": "aYjqvteNJGke"
   },
   "source": [
    "Train the vectorizer with `name`"
   ]
  },
  {
   "cell_type": "code",
   "execution_count": 69,
   "metadata": {
    "id": "M-SKNZukTSfX"
   },
   "outputs": [],
   "source": [
    "df['name_vector'] = hero.tfidf(df['name'])"
   ]
  },
  {
   "cell_type": "code",
   "execution_count": 70,
   "metadata": {
    "colab": {
     "base_uri": "https://localhost:8080/"
    },
    "id": "ny458h2bTSZl",
    "outputId": "0da5494a-2a48-45c5-f8bf-e4aae9fbfa03"
   },
   "outputs": [
    {
     "data": {
      "text/plain": [
       "0       [0.0, 0.0, 0.0, 0.0, 0.0, 0.0, 0.0, 0.0, 0.0, ...\n",
       "1       [0.0, 0.0, 0.0, 0.0, 0.0, 0.0, 0.0, 0.0, 0.0, ...\n",
       "2       [0.0, 0.0, 0.0, 0.0, 0.0, 0.0, 0.0, 0.0, 0.0, ...\n",
       "3       [0.0, 0.0, 0.0, 0.0, 0.0, 0.0, 0.0, 0.0, 0.0, ...\n",
       "4       [0.0, 0.0, 0.0, 0.0, 0.0, 0.0, 0.0, 0.0, 0.0, ...\n",
       "                              ...                        \n",
       "996     [0.0, 0.0, 0.0, 0.0, 0.0, 0.0, 0.0, 0.0, 0.0, ...\n",
       "997     [0.0, 0.0, 0.0, 0.0, 0.0, 0.0, 0.0, 0.0, 0.0, ...\n",
       "998     [0.0, 0.0, 0.0, 0.0, 0.0, 0.0, 0.0, 0.0, 0.0, ...\n",
       "999     [0.0, 0.0, 0.0, 0.0, 0.0, 0.0, 0.0, 0.0, 0.0, ...\n",
       "1000    [0.0, 0.0, 0.0, 0.0, 0.0, 0.0, 0.0, 0.0, 0.0, ...\n",
       "Name: name_vector, Length: 1000, dtype: object"
      ]
     },
     "execution_count": 70,
     "metadata": {},
     "output_type": "execute_result"
    }
   ],
   "source": [
    "df['name_vector']"
   ]
  },
  {
   "cell_type": "markdown",
   "metadata": {
    "id": "NycFnC_8VvSX"
   },
   "source": [
    "with `sklearn`"
   ]
  },
  {
   "cell_type": "code",
   "execution_count": 65,
   "metadata": {
    "id": "Y80uyhK2VxSg"
   },
   "outputs": [],
   "source": [
    "from sklearn.feature_extraction.text import TfidfVectorize\n",
    "\n",
    "vectorizer = TfidfVectorizer()"
   ]
  },
  {
   "cell_type": "code",
   "execution_count": 66,
   "metadata": {
    "colab": {
     "base_uri": "https://localhost:8080/"
    },
    "id": "9ONbVSd2VyF0",
    "outputId": "7f807cda-de0a-430f-f7d4-3c8356f3678f"
   },
   "outputs": [
    {
     "data": {
      "text/plain": [
       "array([[0.        , 0.        , 0.        , ..., 0.        , 0.        ,\n",
       "        0.        ],\n",
       "       [0.        , 0.        , 0.        , ..., 0.        , 0.        ,\n",
       "        0.        ],\n",
       "       [0.        , 0.        , 0.        , ..., 0.        , 0.        ,\n",
       "        0.        ],\n",
       "       ...,\n",
       "       [0.        , 0.        , 0.32103543, ..., 0.        , 0.        ,\n",
       "        0.        ],\n",
       "       [0.        , 0.        , 0.        , ..., 0.        , 0.        ,\n",
       "        0.        ],\n",
       "       [0.        , 0.        , 0.        , ..., 0.        , 0.        ,\n",
       "        0.        ]])"
      ]
     },
     "execution_count": 66,
     "metadata": {},
     "output_type": "execute_result"
    }
   ],
   "source": [
    "X = vectorizer.fit_transform(df['name'].tolist())\n",
    "X.toarray()"
   ]
  },
  {
   "cell_type": "markdown",
   "metadata": {
    "id": "MBw5se7VUdDZ"
   },
   "source": [
    "### Named entities"
   ]
  },
  {
   "cell_type": "code",
   "execution_count": 71,
   "metadata": {
    "id": "dgLNrTwzUgQH"
   },
   "outputs": [],
   "source": [
    "df['name_entities'] = hero.named_entities(df['name'])"
   ]
  },
  {
   "cell_type": "code",
   "execution_count": 73,
   "metadata": {
    "colab": {
     "base_uri": "https://localhost:8080/"
    },
    "id": "vv0B_v6CW6RP",
    "outputId": "67990fdc-c19e-445e-87ce-374bbf43d73b"
   },
   "outputs": [
    {
     "data": {
      "text/plain": [
       "0                                             []\n",
       "1             [(北海道 - Specially, PERSON, 0, 15)]\n",
       "2                       [(DEVONDALE, ORG, 0, 9)]\n",
       "3         [(Rakunoh Mother - Ohaso, ORG, 0, 22)]\n",
       "4    [(Fred & Chloe - Fred & Chloe, ORG, 0, 27)]\n",
       "Name: name_entities, dtype: object"
      ]
     },
     "execution_count": 73,
     "metadata": {},
     "output_type": "execute_result"
    }
   ],
   "source": [
    "df['name_entities'].head()"
   ]
  },
  {
   "cell_type": "code",
   "execution_count": null,
   "metadata": {
    "id": "R45aTCmPW8Ra"
   },
   "outputs": [],
   "source": []
  }
 ],
 "metadata": {
  "colab": {
   "collapsed_sections": [],
   "name": "Lab3 Tutorial - Data Preprocessing.ipynb",
   "provenance": [],
   "toc_visible": true
  },
  "kernelspec": {
   "display_name": "Python 3",
   "language": "python",
   "name": "python3"
  },
  "language_info": {
   "codemirror_mode": {
    "name": "ipython",
    "version": 3
   },
   "file_extension": ".py",
   "mimetype": "text/x-python",
   "name": "python",
   "nbconvert_exporter": "python",
   "pygments_lexer": "ipython3",
   "version": "3.8.8"
  }
 },
 "nbformat": 4,
 "nbformat_minor": 1
}
